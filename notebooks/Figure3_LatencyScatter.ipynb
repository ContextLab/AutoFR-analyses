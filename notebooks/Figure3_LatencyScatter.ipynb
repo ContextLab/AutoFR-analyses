{
 "cells": [
  {
   "cell_type": "markdown",
   "metadata": {},
   "source": [
    "# Latency Scatter"
   ]
  },
  {
   "cell_type": "code",
   "execution_count": 1,
   "metadata": {
    "collapsed": true
   },
   "outputs": [],
   "source": [
    "import quail\n",
    "import seaborn as sns\n",
    "import pandas as pd\n",
    "import matplotlib.pyplot as plt\n",
    "import pickle\n",
    "import numpy as np\n",
    "from scipy.stats import pearsonr\n",
    "import numpy as np\n",
    "\n",
    "%matplotlib inline\n",
    "sns.set_context(\"notebook\", font_scale=1.5)"
   ]
  },
  {
   "cell_type": "markdown",
   "metadata": {},
   "source": [
    "# Import Data"
   ]
  },
  {
   "cell_type": "code",
   "execution_count": 2,
   "metadata": {
    "collapsed": false
   },
   "outputs": [],
   "source": [
    "with open('../data/automatic_transcription.p', 'rb') as file:\n",
    "    auto_words = pickle.load(file)\n",
    "\n",
    "with open('../data/manual_transcription.p', 'rb') as file:\n",
    "    man_words = pickle.load(file)"
   ]
  },
  {
   "cell_type": "code",
   "execution_count": 3,
   "metadata": {
    "collapsed": true
   },
   "outputs": [],
   "source": [
    "with open('../data/automatic_onsets.p', 'rb') as file:\n",
    "    auto_onsets = pickle.load(file)\n",
    "    \n",
    "with open('../data/manual_onsets.p', 'rb') as file:\n",
    "    man_onsets = pickle.load(file)"
   ]
  },
  {
   "cell_type": "markdown",
   "metadata": {},
   "source": [
    "# Function for Matched Recalls"
   ]
  },
  {
   "cell_type": "code",
   "execution_count": 4,
   "metadata": {
    "collapsed": true
   },
   "outputs": [],
   "source": [
    "def get_matching_inds(x, y):\n",
    "    def match_matrix(x, y):\n",
    "        m = np.zeros([len(x) + 1, len(y) + 1])\n",
    "        for i in np.arange(len(x)):\n",
    "            for j in np.arange(len(y)):\n",
    "                if x[i] == y[j]:\n",
    "                    m[i+1, j+1] = m[i, j] + 1\n",
    "                else:\n",
    "                    m[i+1, j+1] = np.max([m[i, j+1], m[i+1, j]])\n",
    "        return m\n",
    "    \n",
    "    def backtrack(m, x, y):\n",
    "        i = len(x)\n",
    "        j = len(y)\n",
    "        \n",
    "        longest_common_sequence = list()\n",
    "        x_inds = list()\n",
    "        y_inds = list()\n",
    "        \n",
    "        while (i >= 1) and (j >= 1):\n",
    "            if m[i, j] == m[i, j-1]:\n",
    "                j -= 1\n",
    "            elif m[i, j] == m[i-1, j]:\n",
    "                i -= 1                \n",
    "            else:\n",
    "                i -= 1\n",
    "                j -= 1\n",
    "                longest_common_sequence.insert(0, x[i])\n",
    "                x_inds.insert(0, i)\n",
    "                y_inds.insert(0, j)\n",
    "        return longest_common_sequence, x_inds, y_inds\n",
    "    \n",
    "    return backtrack(match_matrix(x, y), x, y)"
   ]
  },
  {
   "cell_type": "markdown",
   "metadata": {},
   "source": [
    "# Onset Data"
   ]
  },
  {
   "cell_type": "markdown",
   "metadata": {},
   "source": [
    "# Replace Nones with Nans"
   ]
  },
  {
   "cell_type": "code",
   "execution_count": 5,
   "metadata": {
    "collapsed": true
   },
   "outputs": [],
   "source": [
    "from numpy import nan\n",
    "man_words.rec.fillna(value=nan, inplace=True)\n",
    "auto_words.rec.fillna(value=nan, inplace=True)\n",
    "man_onsets.fillna(value=nan, inplace=True)\n",
    "auto_onsets.fillna(value=nan, inplace=True)"
   ]
  },
  {
   "cell_type": "markdown",
   "metadata": {},
   "source": [
    "# Obtain Onsets"
   ]
  },
  {
   "cell_type": "code",
   "execution_count": 6,
   "metadata": {
    "collapsed": false
   },
   "outputs": [],
   "source": [
    "x_onsets = []\n",
    "y_onsets = []\n",
    "list_corrs = []\n",
    "sub_corrs = []\n",
    "\n",
    "for sub in range(30):\n",
    "    \n",
    "    # subject-wise variables\n",
    "    sub_lists_man = []\n",
    "    sub_lists_auto = []\n",
    "    \n",
    "    for lst in range(8):\n",
    "\n",
    "        # get man and auto words for this list\n",
    "        man = list(man_words.rec.loc[sub].iloc[lst])\n",
    "        auto = list(auto_words.rec.loc[sub].iloc[lst])\n",
    "        \n",
    "        # get the string and indices\n",
    "        data = get_matching_inds(man, auto)\n",
    "        \n",
    "        # assign man and auto indices\n",
    "        mo_ind = data[1]\n",
    "        ao_ind = data[2]\n",
    "        \n",
    "        # generate list-wise correlations\n",
    "        mo_list = [float(list(man_onsets.loc[sub].iloc[lst])[mo]) for mo in mo_ind]\n",
    "        ao_list = [float(list(auto_onsets.loc[sub].iloc[lst])[ao]) for ao in ao_ind]\n",
    "        list_corrs.append(pearsonr(mo_list, ao_list))\n",
    "        \n",
    "        # pull corr values out of tuple\n",
    "        list_corrs_only = [x[0] for x in list_corrs]\n",
    "        \n",
    "        # generat subject-wise correlations\n",
    "        sub_lists_man.append(mo_list)\n",
    "        sub_lists_auto.append(ao_list)\n",
    "        \n",
    "        # get individual onset vals for all words, all subs, all lists \n",
    "        for mo,ao in zip(mo_ind, ao_ind):\n",
    "            \n",
    "            x_onsets.append(float(list(man_onsets.loc[sub].iloc[lst])[mo])*.001)\n",
    "            y_onsets.append(float(list(auto_onsets.loc[sub].iloc[lst])[ao]))\n",
    "            \n",
    "    flat_man_lists = [item for sublist in sub_lists_man for item in sublist]\n",
    "    flat_auto_lists = [item for sublist in sub_lists_auto for item in sublist]\n",
    "    sub_corrs.append(pearsonr(flat_man_lists, flat_auto_lists))\n",
    "        \n",
    "    # pull corr values out of tuple\n",
    "    sub_corrs_only = [x[0] for x in sub_corrs]"
   ]
  },
  {
   "cell_type": "markdown",
   "metadata": {},
   "source": [
    "# Onset Correlation - By List"
   ]
  },
  {
   "cell_type": "code",
   "execution_count": 7,
   "metadata": {
    "collapsed": false
   },
   "outputs": [
    {
     "data": {
      "text/plain": [
       "(array([  0.,   0.,   0.,   0.,   1.,   0.,   0.,   0.,   0.,   0.,   0.,\n",
       "          0.,   0.,   0.,   0.,   0.,   0.,   0.,   0.,   0.,   0.,   0.,\n",
       "          0.,   0.,   0.,   1.,   0.,   0.,   0.,   0.,   0.,   0.,   0.,\n",
       "          0.,   0.,   2.,   0.,   1.,   0.,   0.,   0.,   2.,   1.,   0.,\n",
       "          0.,   1.,   0.,   0.,   0.,   0.,   0.,   0.,   0.,   1.,   0.,\n",
       "          0.,   0.,   0.,   0.,   1.,   0.,   0.,   0.,   0.,   1.,   1.,\n",
       "          0.,   0.,   1.,   1.,   0.,   0.,   1.,   0.,   0.,   0.,   1.,\n",
       "          0.,   0.,   1.,   1.,   2.,   6.,   4.,   0.,   5.,   2.,   4.,\n",
       "          3.,   6.,   5.,   6.,   9.,   7.,  16.,  25.,  26.,  17.,  78.]),\n",
       " array([ 0.99      ,  0.99010101,  0.99020202,  0.99030303,  0.99040404,\n",
       "         0.99050505,  0.99060606,  0.99070707,  0.99080808,  0.99090909,\n",
       "         0.9910101 ,  0.99111111,  0.99121212,  0.99131313,  0.99141414,\n",
       "         0.99151515,  0.99161616,  0.99171717,  0.99181818,  0.99191919,\n",
       "         0.9920202 ,  0.99212121,  0.99222222,  0.99232323,  0.99242424,\n",
       "         0.99252525,  0.99262626,  0.99272727,  0.99282828,  0.99292929,\n",
       "         0.9930303 ,  0.99313131,  0.99323232,  0.99333333,  0.99343434,\n",
       "         0.99353535,  0.99363636,  0.99373737,  0.99383838,  0.99393939,\n",
       "         0.9940404 ,  0.99414141,  0.99424242,  0.99434343,  0.99444444,\n",
       "         0.99454545,  0.99464646,  0.99474747,  0.99484848,  0.99494949,\n",
       "         0.99505051,  0.99515152,  0.99525253,  0.99535354,  0.99545455,\n",
       "         0.99555556,  0.99565657,  0.99575758,  0.99585859,  0.9959596 ,\n",
       "         0.99606061,  0.99616162,  0.99626263,  0.99636364,  0.99646465,\n",
       "         0.99656566,  0.99666667,  0.99676768,  0.99686869,  0.9969697 ,\n",
       "         0.99707071,  0.99717172,  0.99727273,  0.99737374,  0.99747475,\n",
       "         0.99757576,  0.99767677,  0.99777778,  0.99787879,  0.9979798 ,\n",
       "         0.99808081,  0.99818182,  0.99828283,  0.99838384,  0.99848485,\n",
       "         0.99858586,  0.99868687,  0.99878788,  0.99888889,  0.9989899 ,\n",
       "         0.99909091,  0.99919192,  0.99929293,  0.99939394,  0.99949495,\n",
       "         0.99959596,  0.99969697,  0.99979798,  0.99989899,  1.        ]),\n",
       " <a list of 99 Patch objects>)"
      ]
     },
     "execution_count": 7,
     "metadata": {},
     "output_type": "execute_result"
    },
    {
     "data": {
      "image/png": "[encoded data removed]",
      "text/plain": [
       "<matplotlib.figure.Figure at 0x10e75e350>"
      ]
     },
     "metadata": {},
     "output_type": "display_data"
    }
   ],
   "source": [
    "plt.xlim(.990, 1)\n",
    "\n",
    "plt.hist(list_corrs_only, color='black', range=[.90, 1.00], bins=list(np.linspace(.99,1.00,100)))"
   ]
  },
  {
   "cell_type": "markdown",
   "metadata": {},
   "source": [
    "\n",
    "# Onset Correlation - By Word"
   ]
  },
  {
   "cell_type": "code",
   "execution_count": 8,
   "metadata": {
    "collapsed": false
   },
   "outputs": [
    {
     "data": {
      "text/plain": [
       "(array([ 0.,  0.,  0.,  0.,  0.,  0.,  0.,  0.,  0.,  0.,  0.,  0.,  0.,\n",
       "         0.,  0.,  0.,  0.,  0.,  0.,  0.,  0.,  0.,  0.,  0.,  0.,  0.,\n",
       "         0.,  0.,  0.,  0.,  0.,  0.,  0.,  0.,  0.,  0.,  0.,  0.,  0.,\n",
       "         0.,  0.,  0.,  0.,  0.,  0.,  0.,  0.,  0.,  0.,  0.,  0.,  0.,\n",
       "         0.,  0.,  0.,  0.,  0.,  0.,  0.,  0.,  0.,  0.,  0.,  0.,  0.,\n",
       "         0.,  0.,  0.,  0.,  0.,  0.,  0.,  0.,  0.,  0.,  0.,  0.,  0.,\n",
       "         0.,  0.,  0.,  0.,  0.,  0.,  0.,  0.,  1.,  1.,  0.,  1.,  0.,\n",
       "         0.,  2.,  9.,  5.,  3.,  2.,  5.,  1.]),\n",
       " array([ 0.99      ,  0.99010101,  0.99020202,  0.99030303,  0.99040404,\n",
       "         0.99050505,  0.99060606,  0.99070707,  0.99080808,  0.99090909,\n",
       "         0.9910101 ,  0.99111111,  0.99121212,  0.99131313,  0.99141414,\n",
       "         0.99151515,  0.99161616,  0.99171717,  0.99181818,  0.99191919,\n",
       "         0.9920202 ,  0.99212121,  0.99222222,  0.99232323,  0.99242424,\n",
       "         0.99252525,  0.99262626,  0.99272727,  0.99282828,  0.99292929,\n",
       "         0.9930303 ,  0.99313131,  0.99323232,  0.99333333,  0.99343434,\n",
       "         0.99353535,  0.99363636,  0.99373737,  0.99383838,  0.99393939,\n",
       "         0.9940404 ,  0.99414141,  0.99424242,  0.99434343,  0.99444444,\n",
       "         0.99454545,  0.99464646,  0.99474747,  0.99484848,  0.99494949,\n",
       "         0.99505051,  0.99515152,  0.99525253,  0.99535354,  0.99545455,\n",
       "         0.99555556,  0.99565657,  0.99575758,  0.99585859,  0.9959596 ,\n",
       "         0.99606061,  0.99616162,  0.99626263,  0.99636364,  0.99646465,\n",
       "         0.99656566,  0.99666667,  0.99676768,  0.99686869,  0.9969697 ,\n",
       "         0.99707071,  0.99717172,  0.99727273,  0.99737374,  0.99747475,\n",
       "         0.99757576,  0.99767677,  0.99777778,  0.99787879,  0.9979798 ,\n",
       "         0.99808081,  0.99818182,  0.99828283,  0.99838384,  0.99848485,\n",
       "         0.99858586,  0.99868687,  0.99878788,  0.99888889,  0.9989899 ,\n",
       "         0.99909091,  0.99919192,  0.99929293,  0.99939394,  0.99949495,\n",
       "         0.99959596,  0.99969697,  0.99979798,  0.99989899,  1.        ]),\n",
       " <a list of 99 Patch objects>)"
      ]
     },
     "execution_count": 8,
     "metadata": {},
     "output_type": "execute_result"
    },
    {
     "data": {
      "image/png": "[encoded data removed]",
      "text/plain": [
       "<matplotlib.figure.Figure at 0x10e9ae350>"
      ]
     },
     "metadata": {},
     "output_type": "display_data"
    }
   ],
   "source": [
    "plt.xlim(.990, 1)\n",
    "g = np.linspace(.99,1.00,100)\n",
    "\n",
    "plt.hist(sub_corrs_only, color='black', range=[.90, 1.00], bins=list(g))"
   ]
  },
  {
   "cell_type": "code",
   "execution_count": 9,
   "metadata": {
    "collapsed": false
   },
   "outputs": [
    {
     "name": "stderr",
     "output_type": "stream",
     "text": [
      "/Users/contextlab/Library/Enthought/Canopy_64bit/User/lib/python2.7/site-packages/matplotlib/cbook/deprecation.py:106: MatplotlibDeprecationWarning: The axisbg attribute was deprecated in version 2.0. Use facecolor instead.\n",
      "  warnings.warn(message, mplDeprecation, stacklevel=1)\n"
     ]
    },
    {
     "name": "stdout",
     "output_type": "stream",
     "text": [
      "(0.99950903371641653, 0.0)\n"
     ]
    },
    {
     "data": {
      "image/png": "[encoded data removed]",
      "text/plain": [
       "<matplotlib.figure.Figure at 0x10f004050>"
      ]
     },
     "metadata": {},
     "output_type": "display_data"
    }
   ],
   "source": [
    "fig = plt.figure(2)\n",
    "ax = fig.add_subplot(111, axisbg='white')\n",
    "ax.scatter(x_onsets, y_onsets, facecolor='.9', linewidth=1, color='gray', s=120)#, linewidth=2.0)\n",
    "plt.grid(False)\n",
    "\n",
    "plt.axis([0, 62, 0, 62])\n",
    "plt.rc('xtick', labelsize=20)\n",
    "plt.rc('ytick', labelsize=20)\n",
    "plt.xlabel('Recall latencies (manual)', fontsize=20)\n",
    "plt.ylabel('Automatic latencies (automatic)', fontsize=20)\n",
    "\n",
    "reg_line = np.polyfit(x_onsets, y_onsets, 1)\n",
    "plt.plot(x_onsets, np.poly1d(reg_line)(x_onsets), color='black', linewidth=3.0)\n",
    "\n",
    "from scipy.stats import pearsonr\n",
    "r = pearsonr(x_onsets, y_onsets)\n",
    "\n",
    "plt.title('Recall onset latency', fontsize=20)\n",
    "ax.xaxis.set_ticks_position('none') \n",
    "ax.yaxis.set_ticks_position('none') \n",
    "plt.text(40, 12, 'r = ' + str(0.99), fontsize=20, fontweight='bold')\n",
    "plt.text(40, 5, 'p < ' + str(0.001), fontsize=20, fontweight='bold')\n",
    "\n",
    "print r"
   ]
  }
 ],
 "metadata": {
  "kernelspec": {
   "display_name": "Python 2",
   "language": "python",
   "name": "python2"
  },
  "language_info": {
   "codemirror_mode": {
    "name": "ipython",
    "version": 2
   },
   "file_extension": ".py",
   "mimetype": "text/x-python",
   "name": "python",
   "nbconvert_exporter": "python",
   "pygments_lexer": "ipython2",
   "version": "2.7.11"
  }
 },
 "nbformat": 4,
 "nbformat_minor": 1
}
