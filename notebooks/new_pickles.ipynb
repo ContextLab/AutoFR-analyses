{
 "cells": [
  {
   "cell_type": "code",
   "execution_count": 1,
   "metadata": {
    "collapsed": true
   },
   "outputs": [],
   "source": [
    "import quail\n",
    "import pickle"
   ]
  },
  {
   "cell_type": "code",
   "execution_count": 8,
   "metadata": {},
   "outputs": [
    {
     "name": "stdout",
     "output_type": "stream",
     "text": [
      "pickle saved.\n"
     ]
    }
   ],
   "source": [
    "with open('../data/auto_raw.p', 'rb') as f:\n",
    "    auto_raw = pickle.load(f)\n",
    "auto_egg = quail.Egg(pres=auto_raw['pres'], rec=auto_raw['rec'], meta=auto_raw['meta'])\n",
    "auto_egg.save('../data/auto_egg')"
   ]
  },
  {
   "cell_type": "code",
   "execution_count": 9,
   "metadata": {},
   "outputs": [
    {
     "name": "stdout",
     "output_type": "stream",
     "text": [
      "pickle saved.\n"
     ]
    }
   ],
   "source": [
    "with open('../data/man_raw.p', 'rb') as f:\n",
    "    man_raw = pickle.load(f)\n",
    "man_egg = quail.Egg(pres=man_raw['pres'], rec=man_raw['rec'], meta=man_raw['meta'])\n",
    "man_egg.save('../data/man_egg')"
   ]
  },
  {
   "cell_type": "code",
   "execution_count": null,
   "metadata": {
    "collapsed": true
   },
   "outputs": [],
   "source": []
  }
 ],
 "metadata": {
  "kernelspec": {
   "display_name": "Python 2",
   "language": "python",
   "name": "python2"
  },
  "language_info": {
   "codemirror_mode": {
    "name": "ipython",
    "version": 2
   },
   "file_extension": ".py",
   "mimetype": "text/x-python",
   "name": "python",
   "nbconvert_exporter": "python",
   "pygments_lexer": "ipython2",
   "version": "2.7.11"
  }
 },
 "nbformat": 4,
 "nbformat_minor": 2
}
