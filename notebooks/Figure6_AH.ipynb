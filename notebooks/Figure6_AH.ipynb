{
 "cells": [
  {
   "cell_type": "markdown",
   "metadata": {},
   "source": [
    "# Prior-list intrusions"
   ]
  },
  {
   "cell_type": "code",
   "execution_count": 270,
   "metadata": {
    "collapsed": true
   },
   "outputs": [],
   "source": [
    "from __future__ import division\n",
    "import numpy as np\n",
    "import seaborn as sns\n",
    "import quail\n",
    "import pandas as pd\n",
    "%matplotlib inline"
   ]
  },
  {
   "cell_type": "markdown",
   "metadata": {},
   "source": [
    "# Load Data"
   ]
  },
  {
   "cell_type": "code",
   "execution_count": 225,
   "metadata": {
    "collapsed": true
   },
   "outputs": [],
   "source": [
    "man = quail.load_egg('../data/man_egg.egg')\n",
    "auto = quail.load_egg('../data/auto_egg.egg')"
   ]
  },
  {
   "cell_type": "markdown",
   "metadata": {},
   "source": [
    "## Function to compute prior list intrusions"
   ]
  },
  {
   "cell_type": "code",
   "execution_count": 377,
   "metadata": {
    "scrolled": true
   },
   "outputs": [],
   "source": [
    "def prior_list_intrusions(egg):\n",
    "    \"\"\" \n",
    "    Computes prior list intrusions \n",
    "    \n",
    "    Parameters\n",
    "    __________\n",
    "    \n",
    "    egg : quail.Egg\n",
    "        egg to analyze\n",
    "        \n",
    "    Returns\n",
    "    _________\n",
    "    \n",
    "    res : numpy.ndarray\n",
    "        A subject x lists back matrix containing prior lists intrusions.  \n",
    "        For example, the first row is the first subject and the first \n",
    "        column is 0 lists back, the second column is 1 list back and\n",
    "        so on.\n",
    "        \n",
    "    \"\"\"\n",
    "\n",
    "    prior_intrusions = []\n",
    "\n",
    "    # loop over subjects\n",
    "    for isub in range(egg.n_subjects):\n",
    "\n",
    "        # get subject data\n",
    "        subj = egg.crack(subjects=[isub])\n",
    "        \n",
    "        # initialize list\n",
    "        prior_int = [[] for i in range(len(subj.pres.index.levels[1]))]\n",
    "\n",
    "        # for each recall list\n",
    "        for idx, lst in subj.rec.loc[0].iterrows():\n",
    "\n",
    "            # for each prior list\n",
    "            for iprior in range(idx+1):\n",
    "\n",
    "                # filter out nans and nones\n",
    "                lst = lst[lst.notna()]\n",
    "                \n",
    "                # get the list iprior back\n",
    "                prior_pres = subj.pres.loc[0].loc[idx-iprior].values.tolist()\n",
    "\n",
    "                # proportion of intrusions for a given nback\n",
    "                r = lst.apply(lambda x: x in prior_pres).mean()\n",
    "\n",
    "                # append to the list\n",
    "                prior_int[iprior].append(r)\n",
    "         \n",
    "        # average within nback\n",
    "        s = list(map(lambda x: np.nanmean(x), prior_int))\n",
    "        prior_intrusions.append(s)\n",
    "\n",
    "    return np.array(prior_intrusions)"
   ]
  },
  {
   "cell_type": "markdown",
   "metadata": {},
   "source": [
    "## Compute prior list intrusions for automatic"
   ]
  },
  {
   "cell_type": "code",
   "execution_count": 378,
   "metadata": {},
   "outputs": [],
   "source": [
    "man_prior_intrusions = prior_list_intrusions(man)\n",
    "auto_prior_intrusions = prior_list_intrusions(auto)"
   ]
  },
  {
   "cell_type": "markdown",
   "metadata": {},
   "source": [
    "## Create a plot"
   ]
  },
  {
   "cell_type": "code",
   "execution_count": 379,
   "metadata": {
    "scrolled": true
   },
   "outputs": [
    {
     "data": {
      "text/plain": [
       "<seaborn.axisgrid.FacetGrid at 0x116e2cf50>"
      ]
     },
     "execution_count": 379,
     "metadata": {},
     "output_type": "execute_result"
    },
    {
     "data": {
      "image/png": "[encoded data removed]",
      "text/plain": [
       "<Figure size 374.375x288 with 1 Axes>"
      ]
     },
     "metadata": {},
     "output_type": "display_data"
    }
   ],
   "source": [
    "df_man = pd.DataFrame(man_prior_intrusions[:,1:5], columns=['1back', '2back', '3back', '4back'])\n",
    "df_man['condition']='manual'\n",
    "df_man['subject']=range(30)\n",
    "\n",
    "df_auto = pd.DataFrame(auto_prior_intrusions[:,1:5], columns=['1back', '2back', '3back', '4back'])\n",
    "df_auto['condition']='automatic'\n",
    "df_auto['subject']=range(30)\n",
    "\n",
    "df = pd.concat([df_man, df_auto])\n",
    "df = df.melt(value_vars=['1back', '2back', '3back', '4back'], id_vars=['subject', 'condition'])\n",
    "\n",
    "sns.factorplot(data=df, x='variable', y='value', hue='condition')"
   ]
  },
  {
   "cell_type": "markdown",
   "metadata": {},
   "source": [
    "## Restructure df for correlations"
   ]
  },
  {
   "cell_type": "code",
   "execution_count": 375,
   "metadata": {},
   "outputs": [],
   "source": [
    "man_tmp = df_man.melt(value_vars=['1back', '2back', '3back', '4back'], id_vars=['subject', 'condition'])\n",
    "man_tmp = man_tmp.drop('condition', 1)\n",
    "man_tmp = man_tmp.rename({'value':'manual'}, axis='columns')\n",
    "\n",
    "auto_tmp = df_auto.melt(value_vars=['1back', '2back', '3back', '4back'], id_vars=['subject', 'condition'])\n",
    "auto_tmp = auto_tmp.drop('condition', 1)\n",
    "auto_tmp = auto_tmp.rename({'value':'automatic'}, axis='columns')\n",
    "\n",
    "df_corr = man_tmp.merge(auto_tmp)"
   ]
  },
  {
   "cell_type": "markdown",
   "metadata": {},
   "source": [
    "## Plot correlations"
   ]
  },
  {
   "cell_type": "code",
   "execution_count": 376,
   "metadata": {},
   "outputs": [
    {
     "data": {
      "text/plain": [
       "<seaborn.axisgrid.FacetGrid at 0x116e49dd0>"
      ]
     },
     "execution_count": 376,
     "metadata": {},
     "output_type": "execute_result"
    },
    {
     "data": {
      "image/png": "[encoded data removed]",
      "text/plain": [
       "<Figure size 864x216 with 4 Axes>"
      ]
     },
     "metadata": {},
     "output_type": "display_data"
    }
   ],
   "source": [
    "g = sns.FacetGrid(df_corr, col='variable')\n",
    "g.map(sns.regplot, 'manual', 'automatic')"
   ]
  },
  {
   "cell_type": "code",
   "execution_count": null,
   "metadata": {
    "collapsed": true
   },
   "outputs": [],
   "source": []
  }
 ],
 "metadata": {
  "kernelspec": {
   "display_name": "Python 2",
   "language": "python",
   "name": "python2"
  },
  "language_info": {
   "codemirror_mode": {
    "name": "ipython",
    "version": 2
   },
   "file_extension": ".py",
   "mimetype": "text/x-python",
   "name": "python",
   "nbconvert_exporter": "python",
   "pygments_lexer": "ipython2",
   "version": "2.7.11"
  }
 },
 "nbformat": 4,
 "nbformat_minor": 2
}
