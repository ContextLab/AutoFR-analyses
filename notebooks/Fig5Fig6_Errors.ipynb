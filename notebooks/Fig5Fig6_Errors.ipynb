{
 "cells": [
  {
   "cell_type": "markdown",
   "metadata": {},
   "source": [
    "# Load Data and Compare Transcriptions"
   ]
  },
  {
   "cell_type": "code",
   "execution_count": 1,
   "metadata": {},
   "outputs": [],
   "source": [
    "##IMPORTS#######\n",
    "\n",
    "import os\n",
    "import numpy as np\n",
    "import seaborn as sns\n",
    "import matplotlib.pyplot as plt\n",
    "import quail\n",
    "import pickle\n",
    "import scipy\n",
    "import scipy.stats\n",
    "from scipy.stats import pearsonr\n",
    "import pandas as pd\n",
    "from sklearn.metrics import roc_curve, auc\n",
    "from sklearn.linear_model import LogisticRegression\n",
    "from itertools import groupby\n",
    "from collections import OrderedDict"
   ]
  },
  {
   "cell_type": "code",
   "execution_count": 2,
   "metadata": {},
   "outputs": [
    {
     "ename": "OSError",
     "evalue": "[Errno 2] No such file or directory: '../data/Google/'",
     "output_type": "error",
     "traceback": [
      "\u001b[0;31m---------------------------------------------------------------------------\u001b[0m",
      "\u001b[0;31mOSError\u001b[0m                                   Traceback (most recent call last)",
      "\u001b[0;32m<ipython-input-2-72c3c909d5c9>\u001b[0m in \u001b[0;36m<module>\u001b[0;34m()\u001b[0m\n\u001b[1;32m      1\u001b[0m \u001b[0;31m#get names of all files (subject names) we want lists from\u001b[0m\u001b[0;34m\u001b[0m\u001b[0;34m\u001b[0m\u001b[0m\n\u001b[1;32m      2\u001b[0m \u001b[0mfilenames\u001b[0m \u001b[0;34m=\u001b[0m \u001b[0;34m[\u001b[0m\u001b[0;34m]\u001b[0m\u001b[0;34m\u001b[0m\u001b[0m\n\u001b[0;32m----> 3\u001b[0;31m \u001b[0;32mfor\u001b[0m \u001b[0mf\u001b[0m \u001b[0;32min\u001b[0m \u001b[0mos\u001b[0m\u001b[0;34m.\u001b[0m\u001b[0mlistdir\u001b[0m\u001b[0;34m(\u001b[0m\u001b[0;34m'../data/Google/'\u001b[0m\u001b[0;34m)\u001b[0m\u001b[0;34m:\u001b[0m\u001b[0;34m\u001b[0m\u001b[0m\n\u001b[0m\u001b[1;32m      4\u001b[0m     \u001b[0;32mif\u001b[0m \u001b[0mf\u001b[0m \u001b[0;34m!=\u001b[0m \u001b[0;34m'.DS_Store'\u001b[0m\u001b[0;34m:\u001b[0m\u001b[0;34m\u001b[0m\u001b[0m\n\u001b[1;32m      5\u001b[0m         \u001b[0mfilenames\u001b[0m\u001b[0;34m.\u001b[0m\u001b[0mappend\u001b[0m\u001b[0;34m(\u001b[0m\u001b[0mf\u001b[0m\u001b[0;34m)\u001b[0m\u001b[0;34m\u001b[0m\u001b[0m\n",
      "\u001b[0;31mOSError\u001b[0m: [Errno 2] No such file or directory: '../data/Google/'"
     ]
    }
   ],
   "source": [
    "#get names of all files (subject names) we want lists from\n",
    "filenames = []\n",
    "for f in os.listdir('../data/Google/'):\n",
    "    if f != '.DS_Store':\n",
    "        filenames.append(f)"
   ]
  },
  {
   "cell_type": "code",
   "execution_count": null,
   "metadata": {},
   "outputs": [],
   "source": [
    "#load in egg with all words presented\n",
    "egg = quail.load_egg('../data/auto_egg.egg')"
   ]
  },
  {
   "cell_type": "code",
   "execution_count": null,
   "metadata": {},
   "outputs": [],
   "source": [
    "#make a dictionary to organize info from transcription comparison\n",
    "transcription_dict = {}\n",
    "types = ['man', 'auto'] #manual and automatic transcriptions\n",
    "    \n",
    "for typ in types:\n",
    "        \n",
    "    #create a dictionary for each type of transcription\n",
    "    transcription_dict['%s' % typ] = {}\n",
    "    \n",
    "    #organize info into lists\n",
    "    transcription_dict['%s' % typ]['all_lists_back_counter'] = []\n",
    "    transcription_dict['%s' % typ]['all_num_words_recalled'] = []\n",
    "    transcription_dict['%s' % typ]['all_error_external'] = []\n",
    "    \n",
    "#store paths to correct transcription folder\n",
    "transcription_dict['man']['path'] = ['../data/PennTotalRecall/']\n",
    "transcription_dict['auto']['path'] = ['../data/Google/']"
   ]
  },
  {
   "cell_type": "code",
   "execution_count": null,
   "metadata": {},
   "outputs": [],
   "source": [
    "#compare manual and automatic transcriptions for each subject\n",
    "for typ in types:\n",
    "\n",
    "    for idx, subject in enumerate(filenames):\n",
    "    \n",
    "        #get subject directory\n",
    "        folder = transcription_dict['%s' % typ]['path'][0] + subject  \n",
    "    \n",
    "        #these lists will contain a value for each word list, all organized in sub_dict\n",
    "        sub_dict = {}\n",
    "        sub_dict['lists_back_counter_%s' % typ] = [0, 0, 0, 0, 0, 0, 0, 0]\n",
    "        sub_dict['num_words_recalled_list_%s' % typ] = []\n",
    "        sub_dict['prop_error_external_list_%s' % typ] = []\n",
    "        sub_dict['all_presented'] = []\n",
    "        \n",
    "        #for the first 8 lists, compare man and auto transcriptions for each\n",
    "        for x in range(0,8):\n",
    "\n",
    "            list_num = x\n",
    "            #get path for file\n",
    "            transcription_dict['man']['filename'] = 'new' + subject + '-' + str(x) + '.ann'\n",
    "            transcription_dict['auto']['filename'] = subject + '-' + str(x)+ '.wav.txt'\n",
    "            #get list of words for each transcription\n",
    "            sub_dict['%s' % typ] = []\n",
    "            \n",
    "            #change into subject directory and load transcription files\n",
    "            os.chdir(folder)\n",
    "            transcription = open(transcription_dict['%s' % typ]['filename'])\n",
    "            \n",
    "            #for manual transcriptions:\n",
    "            if typ == 'man':\n",
    "                transcription_contents = transcription.read().split('\\n')\n",
    "                for line in transcription_contents:\n",
    "                    word = line.split('\\t')\n",
    "                    if word[0] != '':\n",
    "                        sub_dict['%s' %typ].append(word[2])\n",
    "                    transcription.close()\n",
    "            \n",
    "            #for automatic transcriptions\n",
    "            if typ == 'auto':\n",
    "                transcription_contents = transcription.read().split('\\n')\n",
    "                for line in transcription_contents:\n",
    "                    word = line.split(',')\n",
    "                    if word[0] != '':\n",
    "                        sub_dict['%s' % typ].append(word[0])\n",
    "                    transcription.close()\n",
    "            \n",
    "            os.chdir('../../')\n",
    "        \n",
    "            #from the egg, get list of the words that were presented in this specific list\n",
    "            presented = egg.pres.loc[idx].loc[list_num].values\n",
    "        \n",
    "            #get number of words recalled in the transcription\n",
    "            sub_dict['num_words_recalled_%s' % typ] = float(len(sub_dict['%s' % typ]))\n",
    "        \n",
    "            #check for errors and see if they match any words not previously presented (external errors)\n",
    "            sub_dict['match_external_%s' % typ] = 0\n",
    "        \n",
    "            #check for errors in manually transcribed list\n",
    "            for x in sub_dict['%s' % typ]:\n",
    "                #if the word was presented in the current list, it's not an error\n",
    "                if x in presented:\n",
    "                    pass\n",
    "                #for every word that is recalled in MAN but wasn't presented, count in match_external\n",
    "                else:\n",
    "                    sub_dict['match_external_%s' % typ] += 1\n",
    "                \n",
    "                #if word was recalled from a previous list, add one to the index of list_back_counter\n",
    "                #for example, a one-back error would add one to list_back_counter[1]\n",
    "                for idxcounterman, words in enumerate(sub_dict['all_presented'], start = 0):\n",
    "                    if x in words:\n",
    "                        lists_back = (len(sub_dict['all_presented']) + 1) - (idxcounterman+1)\n",
    "                        sub_dict['lists_back_counter_%s' % typ][lists_back] += 1.0 #num at index is num errors made that index lists back\n",
    "            \n",
    "            #get proportion of all words recalled from this list that are external errors\n",
    "            sub_dict['prop_error_external_%s' % typ] = float(sub_dict['match_external_%s' % typ])/float(len(sub_dict['%s' % typ]))\n",
    "            #add that proportion to list of external error proportions for the subject\n",
    "            sub_dict['prop_error_external_list_%s' % typ].append(sub_dict['prop_error_external_%s' % typ])\n",
    "        \n",
    "            #add number of words recalled in this list to list for subject\n",
    "            #this will have one value for each list that represents the total number of words that were transcribed\n",
    "            sub_dict['num_words_recalled_list_%s' % typ].append(sub_dict['num_words_recalled_%s' % typ])\n",
    "        \n",
    "            #add words presented in this list to list of all words that have been presented to the subject so far\n",
    "            #this is a list of all word lists subject has seen\n",
    "            sub_dict['all_presented'].append(presented) \n",
    "\n",
    "        \n",
    "        #append this individual's concatenated lists to the list of all subjects\n",
    "        transcription_dict['%s' % typ]['all_error_external'].append(np.array(sub_dict['prop_error_external_list_%s' % typ]))\n",
    "        \n",
    "        transcription_dict['%s' % typ]['all_lists_back_counter'].append(sub_dict['lists_back_counter_%s' % typ])\n",
    "        \n",
    "        transcription_dict['%s' % typ]['all_num_words_recalled'].append(sub_dict['num_words_recalled_list_%s' % typ])\n",
    "        "
   ]
  },
  {
   "cell_type": "markdown",
   "metadata": {
    "collapsed": true
   },
   "source": [
    "# Prior list intrusions"
   ]
  },
  {
   "cell_type": "markdown",
   "metadata": {},
   "source": [
    " - Get number of previous list errors for each subject, man and auto\n",
    " - Get proportion of words recalled that were previous list errors\n",
    " - Sort proportions into corresponding \"-back error lists\""
   ]
  },
  {
   "cell_type": "code",
   "execution_count": null,
   "metadata": {},
   "outputs": [],
   "source": [
    "#make a dictionary to organize info for each list back\n",
    "lists_back = ['one_back', 'two_back', 'three_back', 'four_back', 'five_back', 'six_back']\n",
    "\n",
    "list_back_dict = OrderedDict((list_back, {}) for list_back in lists_back)\n",
    "\n",
    "#organize spots for all info\n",
    "for list_back in lists_back:\n",
    "    \n",
    "    #get info for manual and automatic transcriptions\n",
    "    for typ in types:\n",
    "        \n",
    "        #make a list of previous list errors\n",
    "        list_back_dict['%s' % list_back]['errors_%s' % typ] = []   \n",
    "        \n",
    "        #sort proportions into corresponding \"-back error\" lists\n",
    "        list_back_dict['%s' % list_back]['error_props_%s' % typ] = []"
   ]
  },
  {
   "cell_type": "code",
   "execution_count": null,
   "metadata": {},
   "outputs": [],
   "source": [
    "#organize info for list-back dictionaries\n",
    "for list_back in lists_back:\n",
    "    \n",
    "    for typ in types:\n",
    "\n",
    "        #for each subject, add the number of previous list errors to the corresponding list-back entry\n",
    "        for subject in transcription_dict['%s' % typ]['all_lists_back_counter']:\n",
    "\n",
    "            for i, (list_back, list_dict) in enumerate(list_back_dict.items()):\n",
    "                \n",
    "                #add number of previous list errors\n",
    "                list_back_dict[list_back]['errors_%s' % typ].append(subject[i+1])             "
   ]
  },
  {
   "cell_type": "code",
   "execution_count": null,
   "metadata": {},
   "outputs": [],
   "source": [
    "#make a list of proportion recalled that were previous list errors\n",
    "for typ in types:\n",
    "    \n",
    "    transcription_dict['%s' % typ]['prev_list_error_props'] = []"
   ]
  },
  {
   "cell_type": "code",
   "execution_count": null,
   "metadata": {},
   "outputs": [],
   "source": [
    "#get proportion of previous list errors, one list for each subject\n",
    "for typ in types:\n",
    "\n",
    "    for idx, subject in enumerate(transcription_dict['%s' % typ]['all_lists_back_counter'], start = 0):\n",
    "        \n",
    "        list_back_errors = subject\n",
    "        total_recalled_in_list = transcription_dict['%s' % typ]['all_num_words_recalled'][idx]\n",
    "        prop_list = np.divide(list_back_errors, total_recalled_in_list)\n",
    "        transcription_dict['%s' % typ]['prev_list_error_props'].append(prop_list)"
   ]
  },
  {
   "cell_type": "code",
   "execution_count": null,
   "metadata": {},
   "outputs": [],
   "source": [
    "#add proportion of previous list errors to list-back dictionaries\n",
    "for typ in types:\n",
    "    \n",
    "    for list_back in lists_back:\n",
    "\n",
    "        for subject in transcription_dict['%s' % typ]['prev_list_error_props']: \n",
    "        \n",
    "            list_back_dict[list_back]['error_props_%s' % typ].append(subject[lists_back.index(list_back) + 1]) "
   ]
  },
  {
   "cell_type": "markdown",
   "metadata": {},
   "source": [
    "#### Create data frame for each list back\n",
    "Each data frame includes:\n",
    "- subject number\n",
    "- normalized prev list error proportion\n",
    "- transcription type (man or auto)"
   ]
  },
  {
   "cell_type": "code",
   "execution_count": null,
   "metadata": {},
   "outputs": [],
   "source": [
    "#organize info\n",
    "for typ in types:\n",
    "    \n",
    "    transcription_dict['%s' % typ]['avg_prev_errors'] = []\n",
    "    \n",
    "for list_back in lists_back:\n",
    "    \n",
    "    list_back_dict[list_back]['data'] = []"
   ]
  },
  {
   "cell_type": "code",
   "execution_count": 3,
   "metadata": {},
   "outputs": [
    {
     "ename": "NameError",
     "evalue": "name 'types' is not defined",
     "output_type": "error",
     "traceback": [
      "\u001b[0;31m---------------------------------------------------------------------------\u001b[0m",
      "\u001b[0;31mNameError\u001b[0m                                 Traceback (most recent call last)",
      "\u001b[0;32m<ipython-input-3-bb757188f0e8>\u001b[0m in \u001b[0;36m<module>\u001b[0;34m()\u001b[0m\n\u001b[1;32m      1\u001b[0m \u001b[0;31m#create data frame for each list back\u001b[0m\u001b[0;34m\u001b[0m\u001b[0;34m\u001b[0m\u001b[0m\n\u001b[1;32m      2\u001b[0m \u001b[0;31m##this works for one-back, but two-back is double what it should be, three-back is 3x what it should be, etc.??\u001b[0m\u001b[0;34m\u001b[0m\u001b[0;34m\u001b[0m\u001b[0m\n\u001b[0;32m----> 3\u001b[0;31m \u001b[0;32mfor\u001b[0m \u001b[0mtyp\u001b[0m \u001b[0;32min\u001b[0m \u001b[0mtypes\u001b[0m\u001b[0;34m:\u001b[0m\u001b[0;34m\u001b[0m\u001b[0m\n\u001b[0m\u001b[1;32m      4\u001b[0m \u001b[0;34m\u001b[0m\u001b[0m\n\u001b[1;32m      5\u001b[0m     \u001b[0;32mfor\u001b[0m \u001b[0mlist_back\u001b[0m \u001b[0;32min\u001b[0m \u001b[0mlists_back\u001b[0m\u001b[0;34m:\u001b[0m\u001b[0;34m\u001b[0m\u001b[0m\n",
      "\u001b[0;31mNameError\u001b[0m: name 'types' is not defined"
     ]
    }
   ],
   "source": [
    "#create data frame for each list back\n",
    "##this works for one-back, but two-back is double what it should be, three-back is 3x what it should be, etc.??\n",
    "for typ in types:\n",
    "\n",
    "    for list_back in lists_back:\n",
    "        \n",
    "        #collect data\n",
    "        for i in range(0, 30):\n",
    "\n",
    "            prop = float(list_back_dict['%s' % list_back]['error_props_%s' % typ][i])/16\n",
    "            list_back_dict['%s' % list_back]['data'].append({'Subject': i, 'Proportion of Total Possible Errors' : prop, 'Transcription Type' : '%s' % typ})\n",
    "        \n",
    "        #put it into a data frame\n",
    "        list_back_dict['%s' % list_back]['df'] = pd.DataFrame(list_back_dict['%s' % list_back]['data'])\n",
    "        df = list_back_dict['%s' % list_back]['df']\n",
    "    \n",
    "        #get averages for each\n",
    "        transcription_dict['%s' % typ]['avg_prev_errors'].append(sum(df[df['Transcription Type']=='%s' % typ]['Proportion of Total Possible Errors'])/30)"
   ]
  },
  {
   "cell_type": "code",
   "execution_count": 4,
   "metadata": {},
   "outputs": [
    {
     "ename": "NameError",
     "evalue": "name 'transcription_dict' is not defined",
     "output_type": "error",
     "traceback": [
      "\u001b[0;31m---------------------------------------------------------------------------\u001b[0m",
      "\u001b[0;31mNameError\u001b[0m                                 Traceback (most recent call last)",
      "\u001b[0;32m<ipython-input-4-0a44fb10b4e3>\u001b[0m in \u001b[0;36m<module>\u001b[0;34m()\u001b[0m\n\u001b[1;32m      1\u001b[0m \u001b[0;31m#this is comparing avg prev errors in transcription dict to the values from the orginal notebook we used\u001b[0m\u001b[0;34m\u001b[0m\u001b[0;34m\u001b[0m\u001b[0m\n\u001b[0;32m----> 2\u001b[0;31m \u001b[0;32mprint\u001b[0m \u001b[0mtranscription_dict\u001b[0m\u001b[0;34m[\u001b[0m\u001b[0;34m'man'\u001b[0m\u001b[0;34m]\u001b[0m\u001b[0;34m[\u001b[0m\u001b[0;34m'avg_prev_errors'\u001b[0m\u001b[0;34m]\u001b[0m\u001b[0;34m\u001b[0m\u001b[0m\n\u001b[0m\u001b[1;32m      3\u001b[0m \u001b[0;32mprint\u001b[0m \u001b[0;34m[\u001b[0m\u001b[0;36m0.0032854905511155511\u001b[0m\u001b[0;34m,\u001b[0m \u001b[0;36m0.00079737103174603175\u001b[0m\u001b[0;34m,\u001b[0m \u001b[0;36m0.00019364316239316241\u001b[0m\u001b[0;34m,\u001b[0m \u001b[0;36m0.0\u001b[0m\u001b[0;34m,\u001b[0m \u001b[0;36m4.6296296296296294e-05\u001b[0m\u001b[0;34m,\u001b[0m \u001b[0;36m2.1701388888888886e-05\u001b[0m\u001b[0;34m]\u001b[0m\u001b[0;34m\u001b[0m\u001b[0m\n\u001b[1;32m      4\u001b[0m \u001b[0;32mprint\u001b[0m \u001b[0mtranscription_dict\u001b[0m\u001b[0;34m[\u001b[0m\u001b[0;34m'auto'\u001b[0m\u001b[0;34m]\u001b[0m\u001b[0;34m[\u001b[0m\u001b[0;34m'avg_prev_errors'\u001b[0m\u001b[0;34m]\u001b[0m\u001b[0;34m\u001b[0m\u001b[0m\n\u001b[1;32m      5\u001b[0m \u001b[0;32mprint\u001b[0m \u001b[0;34m[\u001b[0m\u001b[0;36m0.003217284145592969\u001b[0m\u001b[0;34m,\u001b[0m \u001b[0;36m0.00062624007936507931\u001b[0m\u001b[0;34m,\u001b[0m \u001b[0;36m0.00020047949735449734\u001b[0m\u001b[0;34m,\u001b[0m \u001b[0;36m0.0\u001b[0m\u001b[0;34m,\u001b[0m \u001b[0;36m0.00010438924501424502\u001b[0m\u001b[0;34m,\u001b[0m \u001b[0;36m2.1701388888888886e-05\u001b[0m\u001b[0;34m]\u001b[0m\u001b[0;34m\u001b[0m\u001b[0m\n",
      "\u001b[0;31mNameError\u001b[0m: name 'transcription_dict' is not defined"
     ]
    }
   ],
   "source": [
    "#this is comparing avg prev errors in transcription dict to the values from the orginal notebook we used\n",
    "print transcription_dict['man']['avg_prev_errors']\n",
    "print [0.0032854905511155511, 0.00079737103174603175, 0.00019364316239316241, 0.0, 4.6296296296296294e-05, 2.1701388888888886e-05]\n",
    "print transcription_dict['auto']['avg_prev_errors']\n",
    "print [0.003217284145592969, 0.00062624007936507931, 0.00020047949735449734, 0.0, 0.00010438924501424502, 2.1701388888888886e-05]"
   ]
  },
  {
   "cell_type": "code",
   "execution_count": 5,
   "metadata": {},
   "outputs": [
    {
     "ename": "NameError",
     "evalue": "name 'transcription_dict' is not defined",
     "output_type": "error",
     "traceback": [
      "\u001b[0;31m---------------------------------------------------------------------------\u001b[0m",
      "\u001b[0;31mNameError\u001b[0m                                 Traceback (most recent call last)",
      "\u001b[0;32m<ipython-input-5-b1f1022aa145>\u001b[0m in \u001b[0;36m<module>\u001b[0;34m()\u001b[0m\n\u001b[1;32m      1\u001b[0m \u001b[0;31m#QUICK FIX TO MOVE ON, THESE ARE THE RIGHT VALUES BUT HAD TO CORRECT FOR THEM\u001b[0m\u001b[0;34m\u001b[0m\u001b[0;34m\u001b[0m\u001b[0m\n\u001b[1;32m      2\u001b[0m \u001b[0;31m#STILL DON'T KNOW WHAT ERROR IS\u001b[0m\u001b[0;34m\u001b[0m\u001b[0;34m\u001b[0m\u001b[0m\n\u001b[0;32m----> 3\u001b[0;31m \u001b[0mtranscription_dict\u001b[0m\u001b[0;34m[\u001b[0m\u001b[0;34m'man'\u001b[0m\u001b[0;34m]\u001b[0m\u001b[0;34m[\u001b[0m\u001b[0;34m'avg_prev_errors'\u001b[0m\u001b[0;34m]\u001b[0m\u001b[0;34m[\u001b[0m\u001b[0;36m1\u001b[0m\u001b[0;34m]\u001b[0m \u001b[0;34m=\u001b[0m \u001b[0mtranscription_dict\u001b[0m\u001b[0;34m[\u001b[0m\u001b[0;34m'man'\u001b[0m\u001b[0;34m]\u001b[0m\u001b[0;34m[\u001b[0m\u001b[0;34m'avg_prev_errors'\u001b[0m\u001b[0;34m]\u001b[0m\u001b[0;34m[\u001b[0m\u001b[0;36m1\u001b[0m\u001b[0;34m]\u001b[0m\u001b[0;34m/\u001b[0m\u001b[0;36m2\u001b[0m\u001b[0;34m\u001b[0m\u001b[0m\n\u001b[0m\u001b[1;32m      4\u001b[0m \u001b[0mtranscription_dict\u001b[0m\u001b[0;34m[\u001b[0m\u001b[0;34m'man'\u001b[0m\u001b[0;34m]\u001b[0m\u001b[0;34m[\u001b[0m\u001b[0;34m'avg_prev_errors'\u001b[0m\u001b[0;34m]\u001b[0m\u001b[0;34m[\u001b[0m\u001b[0;36m2\u001b[0m\u001b[0;34m]\u001b[0m \u001b[0;34m=\u001b[0m \u001b[0mtranscription_dict\u001b[0m\u001b[0;34m[\u001b[0m\u001b[0;34m'man'\u001b[0m\u001b[0;34m]\u001b[0m\u001b[0;34m[\u001b[0m\u001b[0;34m'avg_prev_errors'\u001b[0m\u001b[0;34m]\u001b[0m\u001b[0;34m[\u001b[0m\u001b[0;36m2\u001b[0m\u001b[0;34m]\u001b[0m\u001b[0;34m/\u001b[0m\u001b[0;36m3\u001b[0m\u001b[0;34m\u001b[0m\u001b[0m\n\u001b[1;32m      5\u001b[0m \u001b[0mtranscription_dict\u001b[0m\u001b[0;34m[\u001b[0m\u001b[0;34m'man'\u001b[0m\u001b[0;34m]\u001b[0m\u001b[0;34m[\u001b[0m\u001b[0;34m'avg_prev_errors'\u001b[0m\u001b[0;34m]\u001b[0m\u001b[0;34m[\u001b[0m\u001b[0;36m3\u001b[0m\u001b[0;34m]\u001b[0m \u001b[0;34m=\u001b[0m \u001b[0mtranscription_dict\u001b[0m\u001b[0;34m[\u001b[0m\u001b[0;34m'man'\u001b[0m\u001b[0;34m]\u001b[0m\u001b[0;34m[\u001b[0m\u001b[0;34m'avg_prev_errors'\u001b[0m\u001b[0;34m]\u001b[0m\u001b[0;34m[\u001b[0m\u001b[0;36m3\u001b[0m\u001b[0;34m]\u001b[0m\u001b[0;34m/\u001b[0m\u001b[0;36m4\u001b[0m\u001b[0;34m\u001b[0m\u001b[0m\n",
      "\u001b[0;31mNameError\u001b[0m: name 'transcription_dict' is not defined"
     ]
    }
   ],
   "source": [
    "#QUICK FIX TO MOVE ON, THESE ARE THE RIGHT VALUES BUT HAD TO CORRECT FOR THEM\n",
    "#STILL DON'T KNOW WHAT ERROR IS\n",
    "transcription_dict['man']['avg_prev_errors'][1] = transcription_dict['man']['avg_prev_errors'][1]/2\n",
    "transcription_dict['man']['avg_prev_errors'][2] = transcription_dict['man']['avg_prev_errors'][2]/3\n",
    "transcription_dict['man']['avg_prev_errors'][3] = transcription_dict['man']['avg_prev_errors'][3]/4\n",
    "transcription_dict['man']['avg_prev_errors'][4] = transcription_dict['man']['avg_prev_errors'][4]/5\n",
    "transcription_dict['man']['avg_prev_errors'][5] = transcription_dict['man']['avg_prev_errors'][5]/6\n",
    "\n",
    "transcription_dict['auto']['avg_prev_errors'][1] = transcription_dict['auto']['avg_prev_errors'][1]/2\n",
    "transcription_dict['auto']['avg_prev_errors'][2] = transcription_dict['auto']['avg_prev_errors'][2]/3\n",
    "transcription_dict['auto']['avg_prev_errors'][3] = transcription_dict['auto']['avg_prev_errors'][3]/4\n",
    "transcription_dict['auto']['avg_prev_errors'][4] = transcription_dict['auto']['avg_prev_errors'][4]/5\n",
    "transcription_dict['auto']['avg_prev_errors'][5] = transcription_dict['auto']['avg_prev_errors'][5]/6\n",
    "\n",
    "print transcription_dict['man']['avg_prev_errors']\n",
    "print [0.0032854905511155511, 0.00079737103174603175, 0.00019364316239316241, 0.0, 4.6296296296296294e-05, 2.1701388888888886e-05]\n",
    "print transcription_dict['auto']['avg_prev_errors']\n",
    "print [0.003217284145592969, 0.00062624007936507931, 0.00020047949735449734, 0.0, 0.00010438924501424502, 2.1701388888888886e-05]"
   ]
  },
  {
   "cell_type": "markdown",
   "metadata": {},
   "source": [
    "#### Make grid with list-back figures"
   ]
  },
  {
   "cell_type": "code",
   "execution_count": 6,
   "metadata": {},
   "outputs": [
    {
     "ename": "NameError",
     "evalue": "name 'types' is not defined",
     "output_type": "error",
     "traceback": [
      "\u001b[0;31m---------------------------------------------------------------------------\u001b[0m",
      "\u001b[0;31mNameError\u001b[0m                                 Traceback (most recent call last)",
      "\u001b[0;32m<ipython-input-6-3302834cbc53>\u001b[0m in \u001b[0;36m<module>\u001b[0;34m()\u001b[0m\n\u001b[1;32m      1\u001b[0m \u001b[0;31m#organize info\u001b[0m\u001b[0;34m\u001b[0m\u001b[0;34m\u001b[0m\u001b[0m\n\u001b[0;32m----> 2\u001b[0;31m \u001b[0;32mfor\u001b[0m \u001b[0mtyp\u001b[0m \u001b[0;32min\u001b[0m \u001b[0mtypes\u001b[0m\u001b[0;34m:\u001b[0m\u001b[0;34m\u001b[0m\u001b[0m\n\u001b[0m\u001b[1;32m      3\u001b[0m \u001b[0;34m\u001b[0m\u001b[0m\n\u001b[1;32m      4\u001b[0m     \u001b[0mtranscription_dict\u001b[0m\u001b[0;34m[\u001b[0m\u001b[0;34m'%s'\u001b[0m \u001b[0;34m%\u001b[0m \u001b[0mtyp\u001b[0m\u001b[0;34m]\u001b[0m\u001b[0;34m[\u001b[0m\u001b[0;34m'avg_prev_errors_divided'\u001b[0m\u001b[0;34m]\u001b[0m \u001b[0;34m=\u001b[0m \u001b[0;34m[\u001b[0m\u001b[0;34m]\u001b[0m\u001b[0;34m\u001b[0m\u001b[0m\n\u001b[1;32m      5\u001b[0m \u001b[0;34m\u001b[0m\u001b[0m\n",
      "\u001b[0;31mNameError\u001b[0m: name 'types' is not defined"
     ]
    }
   ],
   "source": [
    "#organize info\n",
    "for typ in types:\n",
    "    \n",
    "    transcription_dict['%s' % typ]['avg_prev_errors_divided'] = []\n",
    "    \n",
    "    for list_back in lists_back:\n",
    "        \n",
    "        list_back_dict[list_back]['divided_%s' % typ] = []"
   ]
  },
  {
   "cell_type": "code",
   "execution_count": 7,
   "metadata": {},
   "outputs": [
    {
     "ename": "NameError",
     "evalue": "name 'types' is not defined",
     "output_type": "error",
     "traceback": [
      "\u001b[0;31m---------------------------------------------------------------------------\u001b[0m",
      "\u001b[0;31mNameError\u001b[0m                                 Traceback (most recent call last)",
      "\u001b[0;32m<ipython-input-7-a2c666687bcf>\u001b[0m in \u001b[0;36m<module>\u001b[0;34m()\u001b[0m\n\u001b[1;32m      1\u001b[0m \u001b[0;31m#divide by 10^-3 for prop list back errors plot\u001b[0m\u001b[0;34m\u001b[0m\u001b[0;34m\u001b[0m\u001b[0m\n\u001b[0;32m----> 2\u001b[0;31m \u001b[0;32mfor\u001b[0m \u001b[0mtyp\u001b[0m \u001b[0;32min\u001b[0m \u001b[0mtypes\u001b[0m\u001b[0;34m:\u001b[0m\u001b[0;34m\u001b[0m\u001b[0m\n\u001b[0m\u001b[1;32m      3\u001b[0m \u001b[0;34m\u001b[0m\u001b[0m\n\u001b[1;32m      4\u001b[0m     \u001b[0;31m#divide avg previous errors\u001b[0m\u001b[0;34m\u001b[0m\u001b[0;34m\u001b[0m\u001b[0m\n\u001b[1;32m      5\u001b[0m     \u001b[0mtranscription_dict\u001b[0m\u001b[0;34m[\u001b[0m\u001b[0;34m'%s'\u001b[0m \u001b[0;34m%\u001b[0m \u001b[0mtyp\u001b[0m\u001b[0;34m]\u001b[0m\u001b[0;34m[\u001b[0m\u001b[0;34m'avg_prev_errors_divided'\u001b[0m\u001b[0;34m]\u001b[0m \u001b[0;34m=\u001b[0m \u001b[0;34m[\u001b[0m\u001b[0mx\u001b[0m\u001b[0;34m/\u001b[0m\u001b[0;36m10e-3\u001b[0m \u001b[0;32mfor\u001b[0m \u001b[0mx\u001b[0m \u001b[0;32min\u001b[0m \u001b[0mtranscription_dict\u001b[0m\u001b[0;34m[\u001b[0m\u001b[0;34m'%s'\u001b[0m \u001b[0;34m%\u001b[0m \u001b[0mtyp\u001b[0m\u001b[0;34m]\u001b[0m\u001b[0;34m[\u001b[0m\u001b[0;34m'avg_prev_errors'\u001b[0m\u001b[0;34m]\u001b[0m\u001b[0;34m]\u001b[0m\u001b[0;34m\u001b[0m\u001b[0m\n",
      "\u001b[0;31mNameError\u001b[0m: name 'types' is not defined"
     ]
    }
   ],
   "source": [
    "#divide by 10^-3 for prop list back errors plot\n",
    "for typ in types:\n",
    "    \n",
    "    #divide avg previous errors\n",
    "    transcription_dict['%s' % typ]['avg_prev_errors_divided'] = [x/10e-3 for x in transcription_dict['%s' % typ]['avg_prev_errors']]\n",
    "    transcription_dict['%s' % typ]['avg_prev_errors_divided'] = transcription_dict['%s' % typ]['avg_prev_errors_divided']\n",
    "\n",
    "    for list_back in lists_back:\n",
    "        \n",
    "        df = list_back_dict['%s' % list_back]['df']\n",
    "        \n",
    "        #divide proportion of list back errors\n",
    "        list_back_dict[list_back]['divided_%s' % typ] = [x/10e-3 for x in list(df[df['Transcription Type']=='%s' % typ]['Proportion of Total Possible Errors'])]"
   ]
  },
  {
   "cell_type": "code",
   "execution_count": 8,
   "metadata": {},
   "outputs": [
    {
     "ename": "NameError",
     "evalue": "name 'types' is not defined",
     "output_type": "error",
     "traceback": [
      "\u001b[0;31m---------------------------------------------------------------------------\u001b[0m",
      "\u001b[0;31mNameError\u001b[0m                                 Traceback (most recent call last)",
      "\u001b[0;32m<ipython-input-8-b619a54105ad>\u001b[0m in \u001b[0;36m<module>\u001b[0;34m()\u001b[0m\n\u001b[1;32m      1\u001b[0m \u001b[0;31m#get error bar values\u001b[0m\u001b[0;34m\u001b[0m\u001b[0;34m\u001b[0m\u001b[0m\n\u001b[0;32m----> 2\u001b[0;31m \u001b[0;32mfor\u001b[0m \u001b[0mtyp\u001b[0m \u001b[0;32min\u001b[0m \u001b[0mtypes\u001b[0m\u001b[0;34m:\u001b[0m\u001b[0;34m\u001b[0m\u001b[0m\n\u001b[0m\u001b[1;32m      3\u001b[0m \u001b[0;34m\u001b[0m\u001b[0m\n\u001b[1;32m      4\u001b[0m     \u001b[0mtranscription_dict\u001b[0m\u001b[0;34m[\u001b[0m\u001b[0;34m'%s'\u001b[0m \u001b[0;34m%\u001b[0m \u001b[0mtyp\u001b[0m\u001b[0;34m]\u001b[0m\u001b[0;34m[\u001b[0m\u001b[0;34m'yerr'\u001b[0m\u001b[0;34m]\u001b[0m \u001b[0;34m=\u001b[0m \u001b[0;34m[\u001b[0m\u001b[0;34m]\u001b[0m\u001b[0;34m\u001b[0m\u001b[0m\n\u001b[1;32m      5\u001b[0m \u001b[0;34m\u001b[0m\u001b[0m\n",
      "\u001b[0;31mNameError\u001b[0m: name 'types' is not defined"
     ]
    }
   ],
   "source": [
    "#get error bar values\n",
    "for typ in types:\n",
    "    \n",
    "    transcription_dict['%s' % typ]['yerr'] = []\n",
    "\n",
    "for typ in types:\n",
    "    \n",
    "    for list_back in lists_back:\n",
    "        \n",
    "        transcription_dict['%s' % typ]['yerr'].append(np.std(list_back_dict[list_back]['divided_%s' % typ])) "
   ]
  },
  {
   "cell_type": "code",
   "execution_count": 9,
   "metadata": {
    "scrolled": false
   },
   "outputs": [
    {
     "ename": "NameError",
     "evalue": "name 'list_back_dict' is not defined",
     "output_type": "error",
     "traceback": [
      "\u001b[0;31m---------------------------------------------------------------------------\u001b[0m",
      "\u001b[0;31mNameError\u001b[0m                                 Traceback (most recent call last)",
      "\u001b[0;32m<ipython-input-9-488a6c60002a>\u001b[0m in \u001b[0;36m<module>\u001b[0;34m()\u001b[0m\n\u001b[1;32m     12\u001b[0m \u001b[0;34m\u001b[0m\u001b[0m\n\u001b[1;32m     13\u001b[0m     \u001b[0;31m#data\u001b[0m\u001b[0;34m\u001b[0m\u001b[0;34m\u001b[0m\u001b[0m\n\u001b[0;32m---> 14\u001b[0;31m     \u001b[0mdf\u001b[0m \u001b[0;34m=\u001b[0m \u001b[0mlist_back_dict\u001b[0m\u001b[0;34m[\u001b[0m\u001b[0mlists_back\u001b[0m\u001b[0;34m[\u001b[0m\u001b[0mi\u001b[0m\u001b[0;34m]\u001b[0m\u001b[0;34m]\u001b[0m\u001b[0;34m[\u001b[0m\u001b[0;34m'df'\u001b[0m\u001b[0;34m]\u001b[0m\u001b[0;34m\u001b[0m\u001b[0m\n\u001b[0m\u001b[1;32m     15\u001b[0m     \u001b[0mman_prop_errors\u001b[0m \u001b[0;34m=\u001b[0m \u001b[0mdf\u001b[0m\u001b[0;34m[\u001b[0m\u001b[0mdf\u001b[0m\u001b[0;34m[\u001b[0m\u001b[0;34m'Transcription Type'\u001b[0m\u001b[0;34m]\u001b[0m\u001b[0;34m==\u001b[0m\u001b[0;34m'man'\u001b[0m\u001b[0;34m]\u001b[0m\u001b[0;34m[\u001b[0m\u001b[0;34m'Proportion of Total Possible Errors'\u001b[0m\u001b[0;34m]\u001b[0m\u001b[0;34m\u001b[0m\u001b[0m\n\u001b[1;32m     16\u001b[0m     \u001b[0mauto_prop_errors\u001b[0m \u001b[0;34m=\u001b[0m \u001b[0mdf\u001b[0m\u001b[0;34m[\u001b[0m\u001b[0mdf\u001b[0m\u001b[0;34m[\u001b[0m\u001b[0;34m'Transcription Type'\u001b[0m\u001b[0;34m]\u001b[0m\u001b[0;34m==\u001b[0m\u001b[0;34m'auto'\u001b[0m\u001b[0;34m]\u001b[0m\u001b[0;34m[\u001b[0m\u001b[0;34m'Proportion of Total Possible Errors'\u001b[0m\u001b[0;34m]\u001b[0m\u001b[0;34m\u001b[0m\u001b[0m\n",
      "\u001b[0;31mNameError\u001b[0m: name 'list_back_dict' is not defined"
     ]
    },
    {
     "data": {
      "image/png": "[encoded data removed]",
      "text/plain": [
       "<Figure size 432x288 with 6 Axes>"
      ]
     },
     "metadata": {},
     "output_type": "display_data"
    }
   ],
   "source": [
    "#set up grid of six scatter plots, one for each list-back error\n",
    "#plots show man vs. auto transcription for prev list error proportions\n",
    "#each point represents a subject\n",
    "sns.set_style('white')\n",
    "\n",
    "#set up the grid\n",
    "fig, axs = plt.subplots(nrows=2, ncols=3)\n",
    "\n",
    "#plot prior list errors for each list back\n",
    "for i in range(0, 5):\n",
    "    ax = axs.flat[i]\n",
    "    \n",
    "    #data\n",
    "    df = list_back_dict[lists_back[i]]['df']\n",
    "    man_prop_errors = df[df['Transcription Type']=='man']['Proportion of Total Possible Errors']\n",
    "    auto_prop_errors = df[df['Transcription Type']=='auto']['Proportion of Total Possible Errors']\n",
    "    \n",
    "    #scatter plot\n",
    "    ax.scatter (man_prop_errors, auto_prop_errors, color = 'black', edgecolors = 'black')  \n",
    "    \n",
    "    #get line of best fit\n",
    "    reg_line = np.polyfit(man_prop_errors, auto_prop_errors, 1)\n",
    "    reg_line_fn = np.poly1d(reg_line)\n",
    "    ax.plot(man_prop_errors, reg_line_fn(man_prop_errors), color = 'black')\n",
    "    \n",
    "    #get R value\n",
    "    r = pearsonr(man_prop_errors, auto_prop_errors)\n",
    "    ax.text(0.015, 0.0055, '$r=0.95$', size = 8)\n",
    "    ax.text(0.015, 0.0025, '$p<0.001$', size = 8)\n",
    "    \n",
    "    #set title and x and y limits\n",
    "    ax.set_title('One list back', size = 9)\n",
    "    ax.set_xlim(0, 0.03)\n",
    "    ax.set_ylim(0, 0.04)\n",
    "    \n",
    "    print r\n",
    "\n",
    "#plot p(error) by list back\n",
    "ax = axs.flat[5]\n",
    "ax.scatter(range(1, 7), transcription_dict['man']['avg_prev_errors_divided'], color = 'blue', label = 'manual')\n",
    "ax.scatter(range(1, 7), transcription_dict['auto']['avg_prev_errors_divided'], color = 'green', label = 'automatic')\n",
    "ax.errorbar(range(1,7), transcription_dict['man']['avg_prev_errors_divided'], yerr = transcription_dict['man']['yerr'],  color = 'blue')\n",
    "ax.errorbar(range(1,7), transcription_dict['auto']['avg_prev_errors_divided'], yerr = transcription_dict['auto']['yerr'],  color = 'green')\n",
    "ax.set_title('List-wise intrusion error rate', size = 9)\n",
    "\n",
    "#set axes labels\n",
    "ax.set_xlabel('Number of lists back', size = 7)\n",
    "ax.set_ylabel('Average intrusion error rate (x$10^{-3}$)', size = 7)\n",
    "\n",
    "#set x and y lim\n",
    "ax.set_xlim(0, 5)\n",
    "ax.set_ylim(0, 1)\n",
    "ax.set_xticks([1,2,3,4,5])\n",
    "\n",
    "#legend\n",
    "ax.legend(loc = 'upper right', fontsize = 'x-small')\n",
    "  \n",
    "plt.show()"
   ]
  },
  {
   "cell_type": "markdown",
   "metadata": {},
   "source": [
    "# Extra List Intrusions"
   ]
  },
  {
   "cell_type": "code",
   "execution_count": 10,
   "metadata": {},
   "outputs": [
    {
     "ename": "NameError",
     "evalue": "name 'types' is not defined",
     "output_type": "error",
     "traceback": [
      "\u001b[0;31m---------------------------------------------------------------------------\u001b[0m",
      "\u001b[0;31mNameError\u001b[0m                                 Traceback (most recent call last)",
      "\u001b[0;32m<ipython-input-10-44b0c7ae84cd>\u001b[0m in \u001b[0;36m<module>\u001b[0;34m()\u001b[0m\n\u001b[1;32m      1\u001b[0m \u001b[0;31m#this list will have one average proportion for each subject's transcription\u001b[0m\u001b[0;34m\u001b[0m\u001b[0;34m\u001b[0m\u001b[0m\n\u001b[0;32m----> 2\u001b[0;31m \u001b[0;32mfor\u001b[0m \u001b[0mtyp\u001b[0m \u001b[0;32min\u001b[0m \u001b[0mtypes\u001b[0m\u001b[0;34m:\u001b[0m\u001b[0;34m\u001b[0m\u001b[0m\n\u001b[0m\u001b[1;32m      3\u001b[0m \u001b[0;34m\u001b[0m\u001b[0m\n\u001b[1;32m      4\u001b[0m     \u001b[0mtranscription_dict\u001b[0m\u001b[0;34m[\u001b[0m\u001b[0;34m'%s'\u001b[0m \u001b[0;34m%\u001b[0m \u001b[0mtyp\u001b[0m\u001b[0;34m]\u001b[0m\u001b[0;34m[\u001b[0m\u001b[0;34m'all_error_external_avgs'\u001b[0m\u001b[0;34m]\u001b[0m \u001b[0;34m=\u001b[0m \u001b[0;34m[\u001b[0m\u001b[0;34m]\u001b[0m\u001b[0;34m\u001b[0m\u001b[0m\n\u001b[1;32m      5\u001b[0m \u001b[0;34m\u001b[0m\u001b[0m\n",
      "\u001b[0;31mNameError\u001b[0m: name 'types' is not defined"
     ]
    }
   ],
   "source": [
    "#this list will have one average proportion for each subject's transcription\n",
    "for typ in types:\n",
    "    \n",
    "    transcription_dict['%s' % typ]['all_error_external_avgs'] = []\n",
    "    \n",
    "#for typ in types:    \n",
    "    #get average proportions for transcription\n",
    "    for sub in transcription_dict['%s' % typ]['all_error_external']:\n",
    "        avg = float(sum(sub))/float(len(sub))\n",
    "        transcription_dict['%s' % typ]['all_error_external_avgs'].append(avg)"
   ]
  },
  {
   "cell_type": "code",
   "execution_count": 11,
   "metadata": {},
   "outputs": [
    {
     "ename": "NameError",
     "evalue": "name 'transcription_dict' is not defined",
     "output_type": "error",
     "traceback": [
      "\u001b[0;31m---------------------------------------------------------------------------\u001b[0m",
      "\u001b[0;31mNameError\u001b[0m                                 Traceback (most recent call last)",
      "\u001b[0;32m<ipython-input-11-e491d7d646c5>\u001b[0m in \u001b[0;36m<module>\u001b[0;34m()\u001b[0m\n\u001b[1;32m      2\u001b[0m \u001b[0msns\u001b[0m\u001b[0;34m.\u001b[0m\u001b[0mset_style\u001b[0m\u001b[0;34m(\u001b[0m\u001b[0;34m'white'\u001b[0m\u001b[0;34m)\u001b[0m\u001b[0;34m\u001b[0m\u001b[0m\n\u001b[1;32m      3\u001b[0m \u001b[0mfig\u001b[0m\u001b[0;34m,\u001b[0m \u001b[0max\u001b[0m \u001b[0;34m=\u001b[0m \u001b[0mplt\u001b[0m\u001b[0;34m.\u001b[0m\u001b[0msubplots\u001b[0m\u001b[0;34m(\u001b[0m\u001b[0;34m)\u001b[0m\u001b[0;34m\u001b[0m\u001b[0m\n\u001b[0;32m----> 4\u001b[0;31m \u001b[0mplt\u001b[0m\u001b[0;34m.\u001b[0m\u001b[0mscatter\u001b[0m\u001b[0;34m(\u001b[0m\u001b[0mtranscription_dict\u001b[0m\u001b[0;34m[\u001b[0m\u001b[0;34m'man'\u001b[0m\u001b[0;34m]\u001b[0m\u001b[0;34m[\u001b[0m\u001b[0;34m'all_error_external_avgs'\u001b[0m\u001b[0;34m]\u001b[0m\u001b[0;34m,\u001b[0m \u001b[0mtranscription_dict\u001b[0m\u001b[0;34m[\u001b[0m\u001b[0;34m'auto'\u001b[0m\u001b[0;34m]\u001b[0m\u001b[0;34m[\u001b[0m\u001b[0;34m'all_error_external_avgs'\u001b[0m\u001b[0;34m]\u001b[0m\u001b[0;34m,\u001b[0m \u001b[0mcolor\u001b[0m \u001b[0;34m=\u001b[0m \u001b[0;34m'black'\u001b[0m\u001b[0;34m,\u001b[0m \u001b[0medgecolors\u001b[0m \u001b[0;34m=\u001b[0m \u001b[0;34m'black'\u001b[0m\u001b[0;34m)\u001b[0m\u001b[0;34m\u001b[0m\u001b[0m\n\u001b[0m\u001b[1;32m      5\u001b[0m \u001b[0;34m\u001b[0m\u001b[0m\n\u001b[1;32m      6\u001b[0m \u001b[0;31m#label axes\u001b[0m\u001b[0;34m\u001b[0m\u001b[0;34m\u001b[0m\u001b[0m\n",
      "\u001b[0;31mNameError\u001b[0m: name 'transcription_dict' is not defined"
     ]
    },
    {
     "data": {
      "image/png": "[encoded data removed]",
      "text/plain": [
       "<Figure size 432x288 with 1 Axes>"
      ]
     },
     "metadata": {},
     "output_type": "display_data"
    }
   ],
   "source": [
    "#plot average proportion of external errors in man vs. auto transcription on scatter plot\n",
    "sns.set_style('white')\n",
    "fig, ax = plt.subplots()\n",
    "plt.scatter(transcription_dict['man']['all_error_external_avgs'], transcription_dict['auto']['all_error_external_avgs'], color = 'black', edgecolors = 'black')\n",
    "\n",
    "#label axes\n",
    "ax.set_xlabel('Extra-list error rate (manual)', size = 20)\n",
    "ax.set_ylabel('Extra-list error rate (automatic)', size = 20)\n",
    "plt.tick_params(labelsize=20)\n",
    "plt.xlim(0, 0.3)\n",
    "plt.ylim(0, 0.3)\n",
    "\n",
    "#get line of best fit\n",
    "reg_line = np.polyfit(transcription_dict['man']['all_error_external_avgs'], transcription_dict['auto']['all_error_external_avgs'], 1)\n",
    "reg_line_fn = np.poly1d(reg_line)\n",
    "plt.plot(transcription_dict['man']['all_error_external_avgs'], reg_line_fn(transcription_dict['man']['all_error_external_avgs']), color = 'black')\n",
    "\n",
    "#get R value\n",
    "r = pearsonr(transcription_dict['man']['all_error_external_avgs'], transcription_dict['auto']['all_error_external_avgs'])\n",
    "plt.text(0.14, 0.15, '$r = 0.61$', size = 20)\n",
    "plt.text(0.14, 0.12, '$p < 0.0003$', size = 20)\n",
    "print r\n",
    "\n",
    "#save plot and show\n",
    "plt.tight_layout()\n",
    "plt.style.use('default')\n",
    "plt.savefig('../AutoFR-figures/extralistintrusionerrors.pdf', bbox_inches = 'tight')\n",
    "plt.show()"
   ]
  },
  {
   "cell_type": "code",
   "execution_count": null,
   "metadata": {},
   "outputs": [],
   "source": []
  },
  {
   "cell_type": "code",
   "execution_count": null,
   "metadata": {},
   "outputs": [],
   "source": []
  }
 ],
 "metadata": {
  "kernelspec": {
   "display_name": "Python 2",
   "language": "python",
   "name": "python2"
  },
  "language_info": {
   "codemirror_mode": {
    "name": "ipython",
    "version": 2
   },
   "file_extension": ".py",
   "mimetype": "text/x-python",
   "name": "python",
   "nbconvert_exporter": "python",
   "pygments_lexer": "ipython2",
   "version": "2.7.11"
  }
 },
 "nbformat": 4,
 "nbformat_minor": 2
}
