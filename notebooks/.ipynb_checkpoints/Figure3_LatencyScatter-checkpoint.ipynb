{
 "cells": [
  {
   "cell_type": "markdown",
   "metadata": {},
   "source": [
    "# Latency Scatter"
   ]
  },
  {
   "cell_type": "code",
   "execution_count": 1,
   "metadata": {
    "collapsed": true
   },
   "outputs": [],
   "source": [
    "import quail\n",
    "import seaborn as sns\n",
    "import pandas as pd\n",
    "import matplotlib.pyplot as plt\n",
    "import pickle\n",
    "import numpy as np\n",
    "from scipy.stats import pearsonr\n",
    "import numpy as np\n",
    "\n",
    "%matplotlib inline\n",
    "sns.set_context(\"notebook\", font_scale=1.5)"
   ]
  },
  {
   "cell_type": "markdown",
   "metadata": {},
   "source": [
    "# Import Data"
   ]
  },
  {
   "cell_type": "code",
   "execution_count": 2,
   "metadata": {
    "collapsed": false
   },
   "outputs": [],
   "source": [
    "with open('../data/automatic_transcription.p', 'rb') as file:\n",
    "    auto_words = pickle.load(file)\n",
    "\n",
    "with open('../data/manual_transcription.p', 'rb') as file:\n",
    "    man_words = pickle.load(file)"
   ]
  },
  {
   "cell_type": "code",
   "execution_count": 3,
   "metadata": {
    "collapsed": true
   },
   "outputs": [],
   "source": [
    "with open('../data/automatic_onsets.p', 'rb') as file:\n",
    "    auto_onsets = pickle.load(file)\n",
    "    \n",
    "with open('../data/manual_onsets.p', 'rb') as file:\n",
    "    man_onsets = pickle.load(file)"
   ]
  },
  {
   "cell_type": "markdown",
   "metadata": {},
   "source": [
    "# Function for Matched Recalls"
   ]
  },
  {
   "cell_type": "code",
   "execution_count": 4,
   "metadata": {
    "collapsed": true
   },
   "outputs": [],
   "source": [
    "def get_matching_inds(x, y):\n",
    "    def match_matrix(x, y):\n",
    "        m = np.zeros([len(x) + 1, len(y) + 1])\n",
    "        for i in np.arange(len(x)):\n",
    "            for j in np.arange(len(y)):\n",
    "                if x[i] == y[j]:\n",
    "                    m[i+1, j+1] = m[i, j] + 1\n",
    "                else:\n",
    "                    m[i+1, j+1] = np.max([m[i, j+1], m[i+1, j]])\n",
    "        return m\n",
    "    \n",
    "    def backtrack(m, x, y):\n",
    "        i = len(x)\n",
    "        j = len(y)\n",
    "        \n",
    "        longest_common_sequence = list()\n",
    "        x_inds = list()\n",
    "        y_inds = list()\n",
    "        \n",
    "        while (i >= 1) and (j >= 1):\n",
    "            if m[i, j] == m[i, j-1]:\n",
    "                j -= 1\n",
    "            elif m[i, j] == m[i-1, j]:\n",
    "                i -= 1                \n",
    "            else:\n",
    "                i -= 1\n",
    "                j -= 1\n",
    "                longest_common_sequence.insert(0, x[i])\n",
    "                x_inds.insert(0, i)\n",
    "                y_inds.insert(0, j)\n",
    "        return longest_common_sequence, x_inds, y_inds\n",
    "    \n",
    "    return backtrack(match_matrix(x, y), x, y)"
   ]
  },
  {
   "cell_type": "markdown",
   "metadata": {},
   "source": [
    "# Onset Data"
   ]
  },
  {
   "cell_type": "markdown",
   "metadata": {},
   "source": [
    "# Replace Nones with Nans"
   ]
  },
  {
   "cell_type": "code",
   "execution_count": 5,
   "metadata": {
    "collapsed": true
   },
   "outputs": [],
   "source": [
    "from numpy import nan\n",
    "man_words.rec.fillna(value=nan, inplace=True)\n",
    "auto_words.rec.fillna(value=nan, inplace=True)\n",
    "man_onsets.fillna(value=nan, inplace=True)\n",
    "auto_onsets.fillna(value=nan, inplace=True)"
   ]
  },
  {
   "cell_type": "markdown",
   "metadata": {},
   "source": [
    "# Obtain Onsets"
   ]
  },
  {
   "cell_type": "code",
   "execution_count": 6,
   "metadata": {
    "collapsed": false
   },
   "outputs": [],
   "source": [
    "x_onsets = []\n",
    "y_onsets = []\n",
    "list_corrs = []\n",
    "sub_corrs = []\n",
    "\n",
    "for sub in range(30):\n",
    "    \n",
    "    # subject-wise variables\n",
    "    sub_lists_man = []\n",
    "    sub_lists_auto = []\n",
    "    \n",
    "    for lst in range(8):\n",
    "\n",
    "        # get man and auto words for this list\n",
    "        man = list(man_words.rec.loc[sub].iloc[lst])\n",
    "        auto = list(auto_words.rec.loc[sub].iloc[lst])\n",
    "        \n",
    "        # get the string and indices\n",
    "        data = get_matching_inds(man, auto)\n",
    "        \n",
    "        # assign man and auto indices\n",
    "        mo_ind = data[1]\n",
    "        ao_ind = data[2]\n",
    "        \n",
    "        # generate list-wise correlations\n",
    "        mo_list = [float(list(man_onsets.loc[sub].iloc[lst])[mo]) for mo in mo_ind]\n",
    "        ao_list = [float(list(auto_onsets.loc[sub].iloc[lst])[ao]) for ao in ao_ind]\n",
    "        list_corrs.append(pearsonr(mo_list, ao_list))\n",
    "        \n",
    "        # pull corr values out of tuple\n",
    "        list_corrs_only = [x[0] for x in list_corrs]\n",
    "        \n",
    "        # generat subject-wise correlations\n",
    "        sub_lists_man.append(mo_list)\n",
    "        sub_lists_auto.append(ao_list)\n",
    "        \n",
    "        # get individual onset vals for all words, all subs, all lists \n",
    "        for mo,ao in zip(mo_ind, ao_ind):\n",
    "            \n",
    "            x_onsets.append(float(list(man_onsets.loc[sub].iloc[lst])[mo])*.001)\n",
    "            y_onsets.append(float(list(auto_onsets.loc[sub].iloc[lst])[ao]))\n",
    "            \n",
    "    flat_man_lists = [item for sublist in sub_lists_man for item in sublist]\n",
    "    flat_auto_lists = [item for sublist in sub_lists_auto for item in sublist]\n",
    "    sub_corrs.append(pearsonr(flat_man_lists, flat_auto_lists))\n",
    "        \n",
    "    # pull corr values out of tuple\n",
    "    sub_corrs_only = [x[0] for x in sub_corrs]"
   ]
  },
  {
   "cell_type": "markdown",
   "metadata": {},
   "source": [
    "# Onset Correlation - By List"
   ]
  },
  {
   "cell_type": "code",
   "execution_count": 13,
   "metadata": {
    "collapsed": false
   },
   "outputs": [
    {
     "data": {
      "text/plain": [
       "<a list of 99 Patch objects>"
      ]
     },
     "execution_count": 13,
     "metadata": {},
     "output_type": "execute_result"
    },
    {
     "data": {
      "image/png": "[encoded data removed]",
      "text/plain": [
       "<matplotlib.figure.Figure at 0x10f985150>"
      ]
     },
     "metadata": {},
     "output_type": "display_data"
    }
   ],
   "source": [
    "plt.xlim(.990, 1)\n",
    "\n",
    "plt.hist(list_corrs_only, color='black', range=[.90, 1.00], bins=list(np.linspace(.99,1.00,100)))[2]"
   ]
  },
  {
   "cell_type": "markdown",
   "metadata": {},
   "source": [
    "\n",
    "# Onset Correlation - By Word"
   ]
  },
  {
   "cell_type": "code",
   "execution_count": 12,
   "metadata": {
    "collapsed": false
   },
   "outputs": [
    {
     "data": {
      "text/plain": [
       "<a list of 99 Patch objects>"
      ]
     },
     "execution_count": 12,
     "metadata": {},
     "output_type": "execute_result"
    },
    {
     "data": {
      "image/png": "[encoded data removed]",
      "text/plain": [
       "<matplotlib.figure.Figure at 0x10f627f90>"
      ]
     },
     "metadata": {},
     "output_type": "display_data"
    }
   ],
   "source": [
    "plt.xlim(.990, 1)\n",
    "g = np.linspace(.99,1.00,100)\n",
    "\n",
    "plt.hist(sub_corrs_only, color='black', range=[.90, 1.00], bins=list(g))[2]"
   ]
  },
  {
   "cell_type": "code",
   "execution_count": 9,
   "metadata": {
    "collapsed": false
   },
   "outputs": [
    {
     "name": "stderr",
     "output_type": "stream",
     "text": [
      "/Users/contextlab/Library/Enthought/Canopy_64bit/User/lib/python2.7/site-packages/matplotlib/cbook/deprecation.py:106: MatplotlibDeprecationWarning: The axisbg attribute was deprecated in version 2.0. Use facecolor instead.\n",
      "  warnings.warn(message, mplDeprecation, stacklevel=1)\n"
     ]
    },
    {
     "name": "stdout",
     "output_type": "stream",
     "text": [
      "(0.99950903371641653, 0.0)\n"
     ]
    },
    {
     "data": {
      "image/png": "[encoded data removed]",
      "text/plain": [
       "<matplotlib.figure.Figure at 0x10f004050>"
      ]
     },
     "metadata": {},
     "output_type": "display_data"
    }
   ],
   "source": [
    "fig = plt.figure(2)\n",
    "ax = fig.add_subplot(111, axisbg='white')\n",
    "ax.scatter(x_onsets, y_onsets, facecolor='.9', linewidth=1, color='gray', s=120)#, linewidth=2.0)\n",
    "plt.grid(False)\n",
    "\n",
    "plt.axis([0, 62, 0, 62])\n",
    "plt.rc('xtick', labelsize=20)\n",
    "plt.rc('ytick', labelsize=20)\n",
    "plt.xlabel('Recall latencies (manual)', fontsize=20)\n",
    "plt.ylabel('Automatic latencies (automatic)', fontsize=20)\n",
    "\n",
    "reg_line = np.polyfit(x_onsets, y_onsets, 1)\n",
    "plt.plot(x_onsets, np.poly1d(reg_line)(x_onsets), color='black', linewidth=3.0)\n",
    "\n",
    "from scipy.stats import pearsonr\n",
    "r = pearsonr(x_onsets, y_onsets)\n",
    "\n",
    "plt.title('Recall onset latency', fontsize=20)\n",
    "ax.xaxis.set_ticks_position('none') \n",
    "ax.yaxis.set_ticks_position('none') \n",
    "plt.text(40, 12, 'r = ' + str(0.99), fontsize=20, fontweight='bold')\n",
    "plt.text(40, 5, 'p < ' + str(0.001), fontsize=20, fontweight='bold')\n",
    "\n",
    "print r"
   ]
  }
 ],
 "metadata": {
  "kernelspec": {
   "display_name": "Python 2",
   "language": "python",
   "name": "python2"
  },
  "language_info": {
   "codemirror_mode": {
    "name": "ipython",
    "version": 2
   },
   "file_extension": ".py",
   "mimetype": "text/x-python",
   "name": "python",
   "nbconvert_exporter": "python",
   "pygments_lexer": "ipython2",
   "version": "2.7.11"
  }
 },
 "nbformat": 4,
 "nbformat_minor": 1
}
