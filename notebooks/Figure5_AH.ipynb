{
 "cells": [
  {
   "cell_type": "markdown",
   "metadata": {},
   "source": [
    "# Extra-list intrusions"
   ]
  },
  {
   "cell_type": "code",
   "execution_count": 1,
   "metadata": {
    "collapsed": true
   },
   "outputs": [],
   "source": [
    "import numpy as np\n",
    "import seaborn as sns\n",
    "import quail\n",
    "import pandas as pd\n",
    "%matplotlib inline"
   ]
  },
  {
   "cell_type": "markdown",
   "metadata": {},
   "source": [
    "# Load Data"
   ]
  },
  {
   "cell_type": "code",
   "execution_count": 3,
   "metadata": {},
   "outputs": [],
   "source": [
    "man = quail.load_egg('../data/man_egg.egg')\n",
    "auto = quail.load_egg('../data/auto_egg.egg')"
   ]
  },
  {
   "cell_type": "markdown",
   "metadata": {},
   "source": [
    "## Andy extra-list intrusions replication - manual"
   ]
  },
  {
   "cell_type": "code",
   "execution_count": 43,
   "metadata": {},
   "outputs": [],
   "source": [
    "import itertools\n",
    "\n",
    "man_ext_rates = []\n",
    "\n",
    "# loop over subjects\n",
    "for isub in range(man.n_subjects):\n",
    "    \n",
    "    ext_rate = []\n",
    "    \n",
    "    # get subject data\n",
    "    subj = man.crack(subjects=[isub])\n",
    "    \n",
    "    # make a list of all presented words\n",
    "    all_pres = list(itertools.chain.from_iterable(subj.pres.values.tolist()))\n",
    "\n",
    "    # iterate over lists within a subj\n",
    "    for idx, lst in subj.rec.iterrows():\n",
    "        \n",
    "        # filter nans and nones\n",
    "        lst = lst[lst.notna()]\n",
    "        \n",
    "        # get average extra-list intrusions\n",
    "        ext_rate.append(lst.apply(lambda x: x not in all_pres).mean())\n",
    "        \n",
    "    man_ext_rates.append(np.mean(ext_rate))"
   ]
  },
  {
   "cell_type": "markdown",
   "metadata": {},
   "source": [
    "## Andy extra-list intrusions replication - automatic"
   ]
  },
  {
   "cell_type": "code",
   "execution_count": 44,
   "metadata": {
    "collapsed": true
   },
   "outputs": [],
   "source": [
    "auto_ext_rates = []\n",
    "\n",
    "# loop over subjects\n",
    "for isub in range(auto.n_subjects):\n",
    "    \n",
    "    ext_rate = []\n",
    "    \n",
    "    # get subject data\n",
    "    subj = auto.crack(subjects=[isub])\n",
    "    \n",
    "    # make a list of all presented words\n",
    "    all_pres = list(itertools.chain.from_iterable(subj.pres.values.tolist()))\n",
    "\n",
    "    # iterate over lists within a subj\n",
    "    for idx, lst in subj.rec.iterrows():\n",
    "        \n",
    "        # filter nans and nones\n",
    "        lst = lst[lst.notna()]\n",
    "        \n",
    "        # get proportion of extra-list intrusions\n",
    "        ext_rate.append(lst.apply(lambda x: x not in all_pres).mean())\n",
    "        \n",
    "    auto_ext_rates.append(np.mean(ext_rate))"
   ]
  },
  {
   "cell_type": "markdown",
   "metadata": {},
   "source": [
    "## Plot the correlation"
   ]
  },
  {
   "cell_type": "code",
   "execution_count": 66,
   "metadata": {},
   "outputs": [
    {
     "data": {
      "text/plain": [
       "(0, 0.3)"
      ]
     },
     "execution_count": 66,
     "metadata": {},
     "output_type": "execute_result"
    },
    {
     "data": {
      "image/png": "[encoded data removed]",
      "text/plain": [
       "<Figure size 640x480 with 1 Axes>"
      ]
     },
     "metadata": {},
     "output_type": "display_data"
    }
   ],
   "source": [
    "df = pd.DataFrame(np.array([man_ext_rates, auto_ext_rates]).T, columns=['Manual', 'Automatic'])\n",
    "ax = sns.regplot(x='Manual', y='Automatic', data=df, ci=None)\n",
    "ax.set_ylim([0, .3])\n",
    "ax.set_xlim([0, .3])"
   ]
  }
 ],
 "metadata": {
  "kernelspec": {
   "display_name": "Python 2",
   "language": "python",
   "name": "python2"
  },
  "language_info": {
   "codemirror_mode": {
    "name": "ipython",
    "version": 2
   },
   "file_extension": ".py",
   "mimetype": "text/x-python",
   "name": "python",
   "nbconvert_exporter": "python",
   "pygments_lexer": "ipython2",
   "version": "2.7.11"
  }
 },
 "nbformat": 4,
 "nbformat_minor": 2
}
