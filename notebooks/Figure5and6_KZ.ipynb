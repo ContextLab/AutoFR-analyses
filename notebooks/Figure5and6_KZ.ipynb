{
 "cells": [
  {
   "cell_type": "markdown",
   "metadata": {},
   "source": [
    "# Error Analyses"
   ]
  },
  {
   "cell_type": "markdown",
   "metadata": {},
   "source": [
    "Please see here the plot / data as I believe they should be, and my aimed replicate of the previous plots at the bottom of this notebook"
   ]
  },
  {
   "cell_type": "code",
   "execution_count": 1,
   "metadata": {},
   "outputs": [],
   "source": [
    "import os\n",
    "import numpy as np\n",
    "import seaborn as sns\n",
    "import matplotlib.pyplot as plt\n",
    "import quail\n",
    "import pickle\n",
    "import scipy\n",
    "import scipy.stats\n",
    "from scipy.stats import pearsonr\n",
    "import pandas as pd\n",
    "from sklearn.metrics import roc_curve, auc\n",
    "from sklearn.linear_model import LogisticRegression\n",
    "from itertools import groupby\n",
    "from collections import OrderedDict\n",
    "\n",
    "%matplotlib inline"
   ]
  },
  {
   "cell_type": "markdown",
   "metadata": {},
   "source": [
    "# Load Data"
   ]
  },
  {
   "cell_type": "code",
   "execution_count": 2,
   "metadata": {},
   "outputs": [
    {
     "ename": "KeyError",
     "evalue": "'ObjectType'",
     "output_type": "error",
     "traceback": [
      "\u001b[0;31m---------------------------------------------------------------------------\u001b[0m",
      "\u001b[0;31mHDF5ExtError\u001b[0m                              Traceback (most recent call last)",
      "\u001b[0;32m~/Documents/github/quail/quail/load.py\u001b[0m in \u001b[0;36mload_egg\u001b[0;34m(filepath, update)\u001b[0m\n\u001b[1;32m     37\u001b[0m     \u001b[0;32mtry\u001b[0m\u001b[0;34m:\u001b[0m\u001b[0;34m\u001b[0m\u001b[0m\n\u001b[0;32m---> 38\u001b[0;31m         \u001b[0megg\u001b[0m \u001b[0;34m=\u001b[0m \u001b[0mEgg\u001b[0m\u001b[0;34m(\u001b[0m\u001b[0;34m**\u001b[0m\u001b[0mdd\u001b[0m\u001b[0;34m.\u001b[0m\u001b[0mio\u001b[0m\u001b[0;34m.\u001b[0m\u001b[0mload\u001b[0m\u001b[0;34m(\u001b[0m\u001b[0mfilepath\u001b[0m\u001b[0;34m)\u001b[0m\u001b[0;34m)\u001b[0m\u001b[0;34m\u001b[0m\u001b[0m\n\u001b[0m\u001b[1;32m     39\u001b[0m     \u001b[0;32mexcept\u001b[0m\u001b[0;34m:\u001b[0m\u001b[0;34m\u001b[0m\u001b[0m\n",
      "\u001b[0;32m/usr/local/lib/python3.6/site-packages/deepdish/io/hdf5io.py\u001b[0m in \u001b[0;36mload\u001b[0;34m(path, group, sel, unpack)\u001b[0m\n\u001b[1;32m    634\u001b[0m     \"\"\"\n\u001b[0;32m--> 635\u001b[0;31m     \u001b[0;32mwith\u001b[0m \u001b[0mtables\u001b[0m\u001b[0;34m.\u001b[0m\u001b[0mopen_file\u001b[0m\u001b[0;34m(\u001b[0m\u001b[0mpath\u001b[0m\u001b[0;34m,\u001b[0m \u001b[0mmode\u001b[0m\u001b[0;34m=\u001b[0m\u001b[0;34m'r'\u001b[0m\u001b[0;34m)\u001b[0m \u001b[0;32mas\u001b[0m \u001b[0mh5file\u001b[0m\u001b[0;34m:\u001b[0m\u001b[0;34m\u001b[0m\u001b[0m\n\u001b[0m\u001b[1;32m    636\u001b[0m         \u001b[0mpathtable\u001b[0m \u001b[0;34m=\u001b[0m \u001b[0;34m{\u001b[0m\u001b[0;34m}\u001b[0m  \u001b[0;31m# dict to keep track of objects already loaded\u001b[0m\u001b[0;34m\u001b[0m\u001b[0m\n",
      "\u001b[0;32m/usr/local/lib/python3.6/site-packages/tables/file.py\u001b[0m in \u001b[0;36mopen_file\u001b[0;34m(filename, mode, title, root_uep, filters, **kwargs)\u001b[0m\n\u001b[1;32m    319\u001b[0m     \u001b[0;31m# Finally, create the File instance, and return it\u001b[0m\u001b[0;34m\u001b[0m\u001b[0;34m\u001b[0m\u001b[0m\n\u001b[0;32m--> 320\u001b[0;31m     \u001b[0;32mreturn\u001b[0m \u001b[0mFile\u001b[0m\u001b[0;34m(\u001b[0m\u001b[0mfilename\u001b[0m\u001b[0;34m,\u001b[0m \u001b[0mmode\u001b[0m\u001b[0;34m,\u001b[0m \u001b[0mtitle\u001b[0m\u001b[0;34m,\u001b[0m \u001b[0mroot_uep\u001b[0m\u001b[0;34m,\u001b[0m \u001b[0mfilters\u001b[0m\u001b[0;34m,\u001b[0m \u001b[0;34m**\u001b[0m\u001b[0mkwargs\u001b[0m\u001b[0;34m)\u001b[0m\u001b[0;34m\u001b[0m\u001b[0m\n\u001b[0m\u001b[1;32m    321\u001b[0m \u001b[0;34m\u001b[0m\u001b[0m\n",
      "\u001b[0;32m/usr/local/lib/python3.6/site-packages/tables/file.py\u001b[0m in \u001b[0;36m__init__\u001b[0;34m(self, filename, mode, title, root_uep, filters, **kwargs)\u001b[0m\n\u001b[1;32m    783\u001b[0m         \u001b[0;31m# Now, it is time to initialize the File extension\u001b[0m\u001b[0;34m\u001b[0m\u001b[0;34m\u001b[0m\u001b[0m\n\u001b[0;32m--> 784\u001b[0;31m         \u001b[0mself\u001b[0m\u001b[0;34m.\u001b[0m\u001b[0m_g_new\u001b[0m\u001b[0;34m(\u001b[0m\u001b[0mfilename\u001b[0m\u001b[0;34m,\u001b[0m \u001b[0mmode\u001b[0m\u001b[0;34m,\u001b[0m \u001b[0;34m**\u001b[0m\u001b[0mparams\u001b[0m\u001b[0;34m)\u001b[0m\u001b[0;34m\u001b[0m\u001b[0m\n\u001b[0m\u001b[1;32m    785\u001b[0m \u001b[0;34m\u001b[0m\u001b[0m\n",
      "\u001b[0;32mtables/hdf5extension.pyx\u001b[0m in \u001b[0;36mtables.hdf5extension.File._g_new (tables/hdf5extension.c:5940)\u001b[0;34m()\u001b[0m\n",
      "\u001b[0;31mHDF5ExtError\u001b[0m: HDF5 error back trace\n\n  File \"H5F.c\", line 604, in H5Fopen\n    unable to open file\n  File \"H5Fint.c\", line 1087, in H5F_open\n    unable to read superblock\n  File \"H5Fsuper.c\", line 277, in H5F_super_read\n    file signature not found\n\nEnd of HDF5 error back trace\n\nUnable to open/create file '../data/man_egg.egg'",
      "\nDuring handling of the above exception, another exception occurred:\n",
      "\u001b[0;31mKeyError\u001b[0m                                  Traceback (most recent call last)",
      "\u001b[0;32m<ipython-input-2-93c624d1af08>\u001b[0m in \u001b[0;36m<module>\u001b[0;34m()\u001b[0m\n\u001b[0;32m----> 1\u001b[0;31m \u001b[0mman\u001b[0m \u001b[0;34m=\u001b[0m \u001b[0mquail\u001b[0m\u001b[0;34m.\u001b[0m\u001b[0mload_egg\u001b[0m\u001b[0;34m(\u001b[0m\u001b[0;34m'../data/man_egg.egg'\u001b[0m\u001b[0;34m)\u001b[0m\u001b[0;34m\u001b[0m\u001b[0m\n\u001b[0m\u001b[1;32m      2\u001b[0m \u001b[0mauto\u001b[0m \u001b[0;34m=\u001b[0m \u001b[0mquail\u001b[0m\u001b[0;34m.\u001b[0m\u001b[0mload_egg\u001b[0m\u001b[0;34m(\u001b[0m\u001b[0;34m'../data/auto_egg.egg'\u001b[0m\u001b[0;34m)\u001b[0m\u001b[0;34m\u001b[0m\u001b[0m\n",
      "\u001b[0;32m~/Documents/github/quail/quail/load.py\u001b[0m in \u001b[0;36mload_egg\u001b[0;34m(filepath, update)\u001b[0m\n\u001b[1;32m     40\u001b[0m         \u001b[0;31m# if error, try loading old format\u001b[0m\u001b[0;34m\u001b[0m\u001b[0;34m\u001b[0m\u001b[0m\n\u001b[1;32m     41\u001b[0m         \u001b[0;32mwith\u001b[0m \u001b[0mopen\u001b[0m\u001b[0;34m(\u001b[0m\u001b[0mfilepath\u001b[0m\u001b[0;34m,\u001b[0m \u001b[0;34m'rb'\u001b[0m\u001b[0;34m)\u001b[0m \u001b[0;32mas\u001b[0m \u001b[0mf\u001b[0m\u001b[0;34m:\u001b[0m\u001b[0;34m\u001b[0m\u001b[0m\n\u001b[0;32m---> 42\u001b[0;31m             \u001b[0megg\u001b[0m \u001b[0;34m=\u001b[0m \u001b[0mpickle\u001b[0m\u001b[0;34m.\u001b[0m\u001b[0mload\u001b[0m\u001b[0;34m(\u001b[0m\u001b[0mf\u001b[0m\u001b[0;34m)\u001b[0m\u001b[0;34m\u001b[0m\u001b[0m\n\u001b[0m\u001b[1;32m     43\u001b[0m \u001b[0;34m\u001b[0m\u001b[0m\n\u001b[1;32m     44\u001b[0m     \u001b[0;32mif\u001b[0m \u001b[0mupdate\u001b[0m\u001b[0;34m:\u001b[0m\u001b[0;34m\u001b[0m\u001b[0m\n",
      "\u001b[0;32m/usr/local/lib/python3.6/site-packages/dill/dill.py\u001b[0m in \u001b[0;36m_load_type\u001b[0;34m(name)\u001b[0m\n\u001b[1;32m    544\u001b[0m \u001b[0;34m\u001b[0m\u001b[0m\n\u001b[1;32m    545\u001b[0m \u001b[0;32mdef\u001b[0m \u001b[0m_load_type\u001b[0m\u001b[0;34m(\u001b[0m\u001b[0mname\u001b[0m\u001b[0;34m)\u001b[0m\u001b[0;34m:\u001b[0m\u001b[0;34m\u001b[0m\u001b[0m\n\u001b[0;32m--> 546\u001b[0;31m     \u001b[0;32mreturn\u001b[0m \u001b[0m_reverse_typemap\u001b[0m\u001b[0;34m[\u001b[0m\u001b[0mname\u001b[0m\u001b[0;34m]\u001b[0m\u001b[0;34m\u001b[0m\u001b[0m\n\u001b[0m\u001b[1;32m    547\u001b[0m \u001b[0;34m\u001b[0m\u001b[0m\n\u001b[1;32m    548\u001b[0m \u001b[0;32mdef\u001b[0m \u001b[0m_create_type\u001b[0m\u001b[0;34m(\u001b[0m\u001b[0mtypeobj\u001b[0m\u001b[0;34m,\u001b[0m \u001b[0;34m*\u001b[0m\u001b[0margs\u001b[0m\u001b[0;34m)\u001b[0m\u001b[0;34m:\u001b[0m\u001b[0;34m\u001b[0m\u001b[0m\n",
      "\u001b[0;31mKeyError\u001b[0m: 'ObjectType'"
     ]
    }
   ],
   "source": [
    "man = quail.load_egg('../data/man_egg.egg')\n",
    "auto = quail.load_egg('../data/auto_egg.egg')"
   ]
  },
  {
   "cell_type": "code",
   "execution_count": 3,
   "metadata": {},
   "outputs": [
    {
     "ename": "NameError",
     "evalue": "name 'man' is not defined",
     "output_type": "error",
     "traceback": [
      "\u001b[0;31m---------------------------------------------------------------------------\u001b[0m",
      "\u001b[0;31mNameError\u001b[0m                                 Traceback (most recent call last)",
      "\u001b[0;32m<ipython-input-3-1ea7d0ea42d4>\u001b[0m in \u001b[0;36m<module>\u001b[0;34m()\u001b[0m\n\u001b[1;32m      2\u001b[0m \u001b[0mauto_errs\u001b[0m \u001b[0;34m=\u001b[0m \u001b[0;34m{\u001b[0m\u001b[0;34m'external'\u001b[0m\u001b[0;34m:\u001b[0m \u001b[0;34m[\u001b[0m\u001b[0;34m]\u001b[0m\u001b[0;34m,\u001b[0m \u001b[0;34m'intrusion'\u001b[0m\u001b[0;34m:\u001b[0m \u001b[0;34m[\u001b[0m\u001b[0;34m]\u001b[0m\u001b[0;34m,\u001b[0m \u001b[0;34m'num recalled'\u001b[0m\u001b[0;34m:\u001b[0m \u001b[0;34m[\u001b[0m\u001b[0;34m]\u001b[0m\u001b[0;34m,\u001b[0m \u001b[0;34m'sep_rec'\u001b[0m\u001b[0;34m:\u001b[0m \u001b[0;34m[\u001b[0m\u001b[0;34m]\u001b[0m\u001b[0;34m}\u001b[0m\u001b[0;34m\u001b[0m\u001b[0m\n\u001b[1;32m      3\u001b[0m \u001b[0;34m\u001b[0m\u001b[0m\n\u001b[0;32m----> 4\u001b[0;31m \u001b[0;32mfor\u001b[0m \u001b[0mtrans\u001b[0m\u001b[0;34m,\u001b[0m\u001b[0mdic\u001b[0m \u001b[0;32min\u001b[0m \u001b[0mzip\u001b[0m\u001b[0;34m(\u001b[0m\u001b[0;34m[\u001b[0m\u001b[0mman\u001b[0m\u001b[0;34m,\u001b[0m\u001b[0mauto\u001b[0m\u001b[0;34m]\u001b[0m\u001b[0;34m,\u001b[0m \u001b[0;34m[\u001b[0m\u001b[0mman_errs\u001b[0m\u001b[0;34m,\u001b[0m \u001b[0mauto_errs\u001b[0m\u001b[0;34m]\u001b[0m\u001b[0;34m)\u001b[0m\u001b[0;34m:\u001b[0m\u001b[0;34m\u001b[0m\u001b[0m\n\u001b[0m\u001b[1;32m      5\u001b[0m     \u001b[0;32mfor\u001b[0m \u001b[0msub\u001b[0m \u001b[0;32min\u001b[0m \u001b[0mrange\u001b[0m\u001b[0;34m(\u001b[0m\u001b[0mlen\u001b[0m\u001b[0;34m(\u001b[0m\u001b[0mauto\u001b[0m\u001b[0;34m.\u001b[0m\u001b[0mmeta\u001b[0m\u001b[0;34m[\u001b[0m\u001b[0;34m'ids'\u001b[0m\u001b[0;34m]\u001b[0m\u001b[0;34m)\u001b[0m\u001b[0;34m)\u001b[0m\u001b[0;34m:\u001b[0m\u001b[0;34m\u001b[0m\u001b[0m\n\u001b[1;32m      6\u001b[0m \u001b[0;34m\u001b[0m\u001b[0m\n",
      "\u001b[0;31mNameError\u001b[0m: name 'man' is not defined"
     ]
    }
   ],
   "source": [
    "man_errs = {'external': [], 'intrusion': [], 'num recalled': [], 'sep_rec': []}\n",
    "auto_errs = {'external': [], 'intrusion': [], 'num recalled': [], 'sep_rec': []}\n",
    "\n",
    "for trans,dic in zip([man,auto], [man_errs, auto_errs]): \n",
    "    for sub in range(len(auto.meta['ids'])):\n",
    "    \n",
    "        all_presented = []\n",
    "        external = []\n",
    "        intrusion = [0]*8\n",
    "        num_recalled = []\n",
    "        \n",
    "        for lst in range(0,8):\n",
    "            ext_count = 0\n",
    "            \n",
    "            # load pres and rec\n",
    "            recalled = [x for x in trans.rec.loc[sub].loc[lst].values if type(x)==str] \n",
    "            presented = trans.pres.loc[sub].loc[lst].values\n",
    "            num_recalled.append(len(recalled))\n",
    "            \n",
    "            # select recalls not from this pres \n",
    "            extras = [x for x in recalled if x not in presented]\n",
    "            \n",
    "            # if extra word prev presented, add to intrusion \n",
    "            for word in extras:\n",
    "                intr = 0\n",
    "                \n",
    "                for idx,sublist in enumerate(all_presented):\n",
    "                    if word in sublist:\n",
    "                        intrusion[lst-idx]+=1.0\n",
    "                        intr += 1\n",
    "                \n",
    "                if intr == 0:\n",
    "                    ext_count+=1\n",
    "       \n",
    "            # append prop recalls that are external errors\n",
    "            external.append(ext_count/float(len(recalled)))\n",
    "            all_presented.append(presented)\n",
    "        \n",
    "        dic['external'].append(np.mean(external))\n",
    "        dic['intrusion'].append(intrusion)  \n",
    "        dic['num recalled'].append(sum(num_recalled))\n",
    "        dic['sep_rec'].append(num_recalled)"
   ]
  },
  {
   "cell_type": "code",
   "execution_count": 4,
   "metadata": {},
   "outputs": [
    {
     "ename": "TypeError",
     "evalue": "expected non-empty vector for x",
     "output_type": "error",
     "traceback": [
      "\u001b[0;31m---------------------------------------------------------------------------\u001b[0m",
      "\u001b[0;31mTypeError\u001b[0m                                 Traceback (most recent call last)",
      "\u001b[0;32m<ipython-input-4-df3968e9cb72>\u001b[0m in \u001b[0;36m<module>\u001b[0;34m()\u001b[0m\n\u001b[1;32m     12\u001b[0m \u001b[0;34m\u001b[0m\u001b[0m\n\u001b[1;32m     13\u001b[0m \u001b[0;31m#get line of best fit\u001b[0m\u001b[0;34m\u001b[0m\u001b[0;34m\u001b[0m\u001b[0m\n\u001b[0;32m---> 14\u001b[0;31m \u001b[0mreg_line\u001b[0m \u001b[0;34m=\u001b[0m \u001b[0mnp\u001b[0m\u001b[0;34m.\u001b[0m\u001b[0mpolyfit\u001b[0m\u001b[0;34m(\u001b[0m\u001b[0mman_errs\u001b[0m\u001b[0;34m[\u001b[0m\u001b[0;34m'external'\u001b[0m\u001b[0;34m]\u001b[0m\u001b[0;34m,\u001b[0m \u001b[0mauto_errs\u001b[0m\u001b[0;34m[\u001b[0m\u001b[0;34m'external'\u001b[0m\u001b[0;34m]\u001b[0m\u001b[0;34m,\u001b[0m \u001b[0;36m1\u001b[0m\u001b[0;34m)\u001b[0m\u001b[0;34m\u001b[0m\u001b[0m\n\u001b[0m\u001b[1;32m     15\u001b[0m \u001b[0mreg_line_fn\u001b[0m \u001b[0;34m=\u001b[0m \u001b[0mnp\u001b[0m\u001b[0;34m.\u001b[0m\u001b[0mpoly1d\u001b[0m\u001b[0;34m(\u001b[0m\u001b[0mreg_line\u001b[0m\u001b[0;34m)\u001b[0m\u001b[0;34m\u001b[0m\u001b[0m\n\u001b[1;32m     16\u001b[0m \u001b[0mplt\u001b[0m\u001b[0;34m.\u001b[0m\u001b[0mplot\u001b[0m\u001b[0;34m(\u001b[0m\u001b[0mman_errs\u001b[0m\u001b[0;34m[\u001b[0m\u001b[0;34m'external'\u001b[0m\u001b[0;34m]\u001b[0m\u001b[0;34m,\u001b[0m \u001b[0mreg_line_fn\u001b[0m\u001b[0;34m(\u001b[0m\u001b[0mman_errs\u001b[0m\u001b[0;34m[\u001b[0m\u001b[0;34m'external'\u001b[0m\u001b[0;34m]\u001b[0m\u001b[0;34m)\u001b[0m\u001b[0;34m,\u001b[0m \u001b[0mcolor\u001b[0m \u001b[0;34m=\u001b[0m \u001b[0;34m'black'\u001b[0m\u001b[0;34m)\u001b[0m\u001b[0;34m\u001b[0m\u001b[0m\n",
      "\u001b[0;32m/usr/local/lib/python3.6/site-packages/numpy/lib/polynomial.py\u001b[0m in \u001b[0;36mpolyfit\u001b[0;34m(x, y, deg, rcond, full, w, cov)\u001b[0m\n\u001b[1;32m    553\u001b[0m         \u001b[0;32mraise\u001b[0m \u001b[0mTypeError\u001b[0m\u001b[0;34m(\u001b[0m\u001b[0;34m\"expected 1D vector for x\"\u001b[0m\u001b[0;34m)\u001b[0m\u001b[0;34m\u001b[0m\u001b[0m\n\u001b[1;32m    554\u001b[0m     \u001b[0;32mif\u001b[0m \u001b[0mx\u001b[0m\u001b[0;34m.\u001b[0m\u001b[0msize\u001b[0m \u001b[0;34m==\u001b[0m \u001b[0;36m0\u001b[0m\u001b[0;34m:\u001b[0m\u001b[0;34m\u001b[0m\u001b[0m\n\u001b[0;32m--> 555\u001b[0;31m         \u001b[0;32mraise\u001b[0m \u001b[0mTypeError\u001b[0m\u001b[0;34m(\u001b[0m\u001b[0;34m\"expected non-empty vector for x\"\u001b[0m\u001b[0;34m)\u001b[0m\u001b[0;34m\u001b[0m\u001b[0m\n\u001b[0m\u001b[1;32m    556\u001b[0m     \u001b[0;32mif\u001b[0m \u001b[0my\u001b[0m\u001b[0;34m.\u001b[0m\u001b[0mndim\u001b[0m \u001b[0;34m<\u001b[0m \u001b[0;36m1\u001b[0m \u001b[0;32mor\u001b[0m \u001b[0my\u001b[0m\u001b[0;34m.\u001b[0m\u001b[0mndim\u001b[0m \u001b[0;34m>\u001b[0m \u001b[0;36m2\u001b[0m\u001b[0;34m:\u001b[0m\u001b[0;34m\u001b[0m\u001b[0m\n\u001b[1;32m    557\u001b[0m         \u001b[0;32mraise\u001b[0m \u001b[0mTypeError\u001b[0m\u001b[0;34m(\u001b[0m\u001b[0;34m\"expected 1D or 2D array for y\"\u001b[0m\u001b[0;34m)\u001b[0m\u001b[0;34m\u001b[0m\u001b[0m\n",
      "\u001b[0;31mTypeError\u001b[0m: expected non-empty vector for x"
     ]
    },
    {
     "data": {
      "image/png": "[encoded data removed]",
      "text/plain": [
       "<Figure size 432x288 with 1 Axes>"
      ]
     },
     "metadata": {},
     "output_type": "display_data"
    }
   ],
   "source": [
    "#plot average proportion of external errors in man vs. auto transcription on scatter plot\n",
    "sns.set_style('white')\n",
    "fig, ax = plt.subplots()\n",
    "plt.scatter(man_errs['external'], auto_errs['external'], color = 'black', edgecolors = 'black')\n",
    "\n",
    "#label axes\n",
    "ax.set_xlabel('Extra-list error rate (manual)', size = 20)\n",
    "ax.set_ylabel('Extra-list error rate (automatic)', size = 20)\n",
    "plt.tick_params(labelsize=20)\n",
    "plt.xlim(0, .3)\n",
    "plt.ylim(0, .3)\n",
    "\n",
    "#get line of best fit\n",
    "reg_line = np.polyfit(man_errs['external'], auto_errs['external'], 1)\n",
    "reg_line_fn = np.poly1d(reg_line)\n",
    "plt.plot(man_errs['external'], reg_line_fn(man_errs['external']), color = 'black')\n",
    "\n",
    "#get R value\n",
    "r = pearsonr(man_errs['external'], auto_errs['external'])\n",
    "r_plot = str(r[0])\n",
    "p_plot=str(r[1])\n",
    "#print r\n",
    "ax.text(.95, .2, 'r = '+r_plot[0:4], horizontalalignment='right', verticalalignment='top',\n",
    "transform=ax.transAxes, color='black', fontsize=20)\n",
    "ax.text(0.95, 0.03, 'p = '+p_plot[0:4]+p_plot[-4:], horizontalalignment='right',\n",
    "transform=ax.transAxes, color='black', fontsize=20)\n",
    "\n",
    "#save plot and show\n",
    "plt.tight_layout()\n",
    "plt.style.use('default')\n",
    "fig.savefig('XLI_KZ.pdf')\n",
    "plt.show()"
   ]
  },
  {
   "cell_type": "code",
   "execution_count": 5,
   "metadata": {},
   "outputs": [],
   "source": [
    "for error in [man_errs, auto_errs]:\n",
    "    for index,subj in enumerate(error['intrusion']):\n",
    "        for idx,num in enumerate(subj):\n",
    "            \n",
    "            if num != 0 and num != 0.0:\n",
    "\n",
    "                # take each raw value and divide by total recalled words and number of possible list back errors\n",
    "                subj[idx] = num / (error['num recalled'][index] * 16.0 * idx)\n"
   ]
  },
  {
   "cell_type": "markdown",
   "metadata": {},
   "source": [
    "# Create Plot"
   ]
  },
  {
   "cell_type": "code",
   "execution_count": 6,
   "metadata": {
    "scrolled": true
   },
   "outputs": [
    {
     "name": "stderr",
     "output_type": "stream",
     "text": [
      "/usr/local/lib/python3.6/site-packages/scipy/stats/stats.py:2998: RuntimeWarning: Mean of empty slice.\n",
      "  mx = x.mean()\n",
      "/usr/local/lib/python3.6/site-packages/scipy/stats/stats.py:2999: RuntimeWarning: Mean of empty slice.\n",
      "  my = y.mean()\n"
     ]
    },
    {
     "ename": "TypeError",
     "evalue": "expected non-empty vector for x",
     "output_type": "error",
     "traceback": [
      "\u001b[0;31m---------------------------------------------------------------------------\u001b[0m",
      "\u001b[0;31mTypeError\u001b[0m                                 Traceback (most recent call last)",
      "\u001b[0;32m<ipython-input-6-102482dc14a9>\u001b[0m in \u001b[0;36m<module>\u001b[0;34m()\u001b[0m\n\u001b[1;32m     31\u001b[0m \u001b[0;34m\u001b[0m\u001b[0m\n\u001b[1;32m     32\u001b[0m     \u001b[0;31m#get line of best fit\u001b[0m\u001b[0;34m\u001b[0m\u001b[0;34m\u001b[0m\u001b[0m\n\u001b[0;32m---> 33\u001b[0;31m     \u001b[0mreg_line\u001b[0m \u001b[0;34m=\u001b[0m \u001b[0mnp\u001b[0m\u001b[0;34m.\u001b[0m\u001b[0mpolyfit\u001b[0m\u001b[0;34m(\u001b[0m\u001b[0mman_plot\u001b[0m\u001b[0;34m,\u001b[0m \u001b[0mauto_plot\u001b[0m\u001b[0;34m,\u001b[0m \u001b[0;36m1\u001b[0m\u001b[0;34m)\u001b[0m\u001b[0;34m\u001b[0m\u001b[0m\n\u001b[0m\u001b[1;32m     34\u001b[0m     \u001b[0mreg_line_fn\u001b[0m \u001b[0;34m=\u001b[0m \u001b[0mnp\u001b[0m\u001b[0;34m.\u001b[0m\u001b[0mpoly1d\u001b[0m\u001b[0;34m(\u001b[0m\u001b[0mreg_line\u001b[0m\u001b[0;34m)\u001b[0m\u001b[0;34m\u001b[0m\u001b[0m\n\u001b[1;32m     35\u001b[0m     \u001b[0max\u001b[0m\u001b[0;34m.\u001b[0m\u001b[0mset_title\u001b[0m\u001b[0;34m(\u001b[0m\u001b[0mstr\u001b[0m\u001b[0;34m(\u001b[0m\u001b[0mi\u001b[0m\u001b[0;34m)\u001b[0m\u001b[0;34m+\u001b[0m\u001b[0;34m' list back'\u001b[0m\u001b[0;34m,\u001b[0m \u001b[0msize\u001b[0m \u001b[0;34m=\u001b[0m \u001b[0;36m9\u001b[0m\u001b[0;34m)\u001b[0m\u001b[0;34m\u001b[0m\u001b[0m\n",
      "\u001b[0;32m/usr/local/lib/python3.6/site-packages/numpy/lib/polynomial.py\u001b[0m in \u001b[0;36mpolyfit\u001b[0;34m(x, y, deg, rcond, full, w, cov)\u001b[0m\n\u001b[1;32m    553\u001b[0m         \u001b[0;32mraise\u001b[0m \u001b[0mTypeError\u001b[0m\u001b[0;34m(\u001b[0m\u001b[0;34m\"expected 1D vector for x\"\u001b[0m\u001b[0;34m)\u001b[0m\u001b[0;34m\u001b[0m\u001b[0m\n\u001b[1;32m    554\u001b[0m     \u001b[0;32mif\u001b[0m \u001b[0mx\u001b[0m\u001b[0;34m.\u001b[0m\u001b[0msize\u001b[0m \u001b[0;34m==\u001b[0m \u001b[0;36m0\u001b[0m\u001b[0;34m:\u001b[0m\u001b[0;34m\u001b[0m\u001b[0m\n\u001b[0;32m--> 555\u001b[0;31m         \u001b[0;32mraise\u001b[0m \u001b[0mTypeError\u001b[0m\u001b[0;34m(\u001b[0m\u001b[0;34m\"expected non-empty vector for x\"\u001b[0m\u001b[0;34m)\u001b[0m\u001b[0;34m\u001b[0m\u001b[0m\n\u001b[0m\u001b[1;32m    556\u001b[0m     \u001b[0;32mif\u001b[0m \u001b[0my\u001b[0m\u001b[0;34m.\u001b[0m\u001b[0mndim\u001b[0m \u001b[0;34m<\u001b[0m \u001b[0;36m1\u001b[0m \u001b[0;32mor\u001b[0m \u001b[0my\u001b[0m\u001b[0;34m.\u001b[0m\u001b[0mndim\u001b[0m \u001b[0;34m>\u001b[0m \u001b[0;36m2\u001b[0m\u001b[0;34m:\u001b[0m\u001b[0;34m\u001b[0m\u001b[0m\n\u001b[1;32m    557\u001b[0m         \u001b[0;32mraise\u001b[0m \u001b[0mTypeError\u001b[0m\u001b[0;34m(\u001b[0m\u001b[0;34m\"expected 1D or 2D array for y\"\u001b[0m\u001b[0;34m)\u001b[0m\u001b[0;34m\u001b[0m\u001b[0m\n",
      "\u001b[0;31mTypeError\u001b[0m: expected non-empty vector for x"
     ]
    },
    {
     "data": {
      "image/png": "[encoded data removed]",
      "text/plain": [
       "<Figure size 432x288 with 6 Axes>"
      ]
     },
     "metadata": {},
     "output_type": "display_data"
    }
   ],
   "source": [
    "sns.set_style('white')\n",
    "\n",
    "#set up the grid\n",
    "fig, axs = plt.subplots(nrows=2, ncols=3)\n",
    "fig.tight_layout(pad=2, w_pad=1.5, h_pad=1.5)\n",
    "\n",
    "\n",
    "#plot prior list errors for each list back\n",
    "man_means = []\n",
    "auto_means = []\n",
    "\n",
    "man_full = []\n",
    "auto_full = []\n",
    "\n",
    "for i in range(1, 6):\n",
    "    \n",
    "    ax = axs.flat[i]\n",
    "    \n",
    "    man_plot = [x[i] for x in man_errs['intrusion']]\n",
    "    auto_plot = [x[i] for x in auto_errs['intrusion']]\n",
    "    \n",
    "    man_full.append(man_plot)\n",
    "    auto_full.append(auto_plot)\n",
    "\n",
    "    ax.scatter (man_plot, auto_plot, color = 'black', edgecolors = 'black')  \n",
    "    \n",
    "    #get R value\n",
    "    r = pearsonr(man_plot, auto_plot)\n",
    "    r_plot = str(r[0])\n",
    "    p_plot = str(r[1])\n",
    "    \n",
    "    #get line of best fit\n",
    "    reg_line = np.polyfit(man_plot, auto_plot, 1)\n",
    "    reg_line_fn = np.poly1d(reg_line)\n",
    "    ax.set_title(str(i)+' list back', size = 9)\n",
    "    ax.set_xlim(0, 0.003)\n",
    "    ax.set_ylim(0, 0.003)\n",
    "    ax.plot(man_plot, reg_line_fn(man_plot), color = 'black')\n",
    "    \n",
    "    ax.text(0.95, 0.03, 'p = '+p_plot[0:4]+p_plot[-4:], horizontalalignment='right',\n",
    "    transform=ax.transAxes, color='black', fontsize=10)\n",
    "    ax.text(.95, .2, 'r = '+r_plot[0:4], horizontalalignment='right', verticalalignment='top',\n",
    "    transform=ax.transAxes, color='black', fontsize=10)\n",
    "    \n",
    "    man_means.append(np.mean(man_plot))\n",
    "    auto_means.append(np.mean(auto_plot))\n",
    "    \n",
    "#     print('correlation for '+str(i)+' lists back: ')\n",
    "#     print r\n",
    "#     print(' ')\n",
    "\n",
    "x = np.array(man_full)\n",
    "y = np.array(auto_full)\n",
    "sns.tsplot(np.transpose(x), ax=axs.flat[0], color = 'blue')\n",
    "sns.tsplot(np.transpose(y), ax=axs.flat[0], color = 'green')\n",
    "axs.flat[0].set_ylim(0,.00042)\n",
    "\n",
    "#legend\n",
    "ax.legend(loc = 'upper right', fontsize = 'x-small')\n",
    "fig.savefig('updated.pdf')\n",
    "\n",
    "\n",
    "\n"
   ]
  },
  {
   "cell_type": "code",
   "execution_count": null,
   "metadata": {},
   "outputs": [],
   "source": []
  },
  {
   "cell_type": "code",
   "execution_count": null,
   "metadata": {},
   "outputs": [],
   "source": []
  },
  {
   "cell_type": "code",
   "execution_count": null,
   "metadata": {},
   "outputs": [],
   "source": []
  },
  {
   "cell_type": "code",
   "execution_count": null,
   "metadata": {},
   "outputs": [],
   "source": []
  },
  {
   "cell_type": "code",
   "execution_count": null,
   "metadata": {},
   "outputs": [],
   "source": []
  },
  {
   "cell_type": "markdown",
   "metadata": {},
   "source": [
    "# Replicate Mistake"
   ]
  },
  {
   "cell_type": "code",
   "execution_count": 263,
   "metadata": {},
   "outputs": [],
   "source": [
    "mans = []\n",
    "autos = []\n",
    "for typ in [man_errs,auto_errs]:\n",
    "    for x,y in zip(typ['intrusion'],typ['sep_rec']):\n",
    "        if typ == man_errs:\n",
    "            mans.append([a/b for a,b in zip(x,y)])\n",
    "        else:\n",
    "            autos.append([a/b for a,b in zip(x,y)])"
   ]
  },
  {
   "cell_type": "code",
   "execution_count": 264,
   "metadata": {},
   "outputs": [],
   "source": [
    "for typ in [mans,autos]:\n",
    "    for index,lst in enumerate(typ):\n",
    "        for idx,x in enumerate(lst):\n",
    "            if idx!=0:\n",
    "                typ[index][idx] = x/(idx*16)"
   ]
  },
  {
   "cell_type": "code",
   "execution_count": 265,
   "metadata": {},
   "outputs": [
    {
     "name": "stdout",
     "output_type": "stream",
     "text": [
      "(0.9506534379088233, 9.184401321791529e-16)\n",
      "(0.8543287889126205, 1.9032395443905375e-09)\n",
      "(0.9917232543537262, 1.6485110153633218e-26)\n",
      "(nan, 1.0)\n",
      "(0.839044797992095, 6.96564180369715e-09)\n"
     ]
    },
    {
     "ename": "AttributeError",
     "evalue": "'AxesSubplot' object has no attribute 'flat'",
     "output_type": "error",
     "traceback": [
      "\u001b[0;31m---------------------------------------------------------------------------\u001b[0m",
      "\u001b[0;31mAttributeError\u001b[0m                            Traceback (most recent call last)",
      "\u001b[0;32m<ipython-input-265-577f882f6e3f>\u001b[0m in \u001b[0;36m<module>\u001b[0;34m()\u001b[0m\n\u001b[1;32m     51\u001b[0m \u001b[0;34m\u001b[0m\u001b[0m\n\u001b[1;32m     52\u001b[0m \u001b[0;31m#plot p(error) by list back\u001b[0m\u001b[0;34m\u001b[0m\u001b[0;34m\u001b[0m\u001b[0m\n\u001b[0;32m---> 53\u001b[0;31m \u001b[0max\u001b[0m \u001b[0;34m=\u001b[0m \u001b[0max\u001b[0m\u001b[0;34m.\u001b[0m\u001b[0mflat\u001b[0m\u001b[0;34m[\u001b[0m\u001b[0;36m0\u001b[0m\u001b[0;34m]\u001b[0m\u001b[0;34m\u001b[0m\u001b[0m\n\u001b[0m\u001b[1;32m     54\u001b[0m \u001b[0max\u001b[0m\u001b[0;34m.\u001b[0m\u001b[0mset_xticks\u001b[0m\u001b[0;34m(\u001b[0m\u001b[0;34m[\u001b[0m\u001b[0;36m1\u001b[0m\u001b[0;34m,\u001b[0m \u001b[0;36m2\u001b[0m\u001b[0;34m,\u001b[0m \u001b[0;36m3\u001b[0m\u001b[0;34m,\u001b[0m \u001b[0;36m4\u001b[0m\u001b[0;34m,\u001b[0m \u001b[0;36m5\u001b[0m\u001b[0;34m]\u001b[0m\u001b[0;34m)\u001b[0m\u001b[0;34m\u001b[0m\u001b[0m\n\u001b[1;32m     55\u001b[0m \u001b[0max\u001b[0m\u001b[0;34m.\u001b[0m\u001b[0mset_ylim\u001b[0m\u001b[0;34m(\u001b[0m\u001b[0;36m0\u001b[0m\u001b[0;34m,\u001b[0m \u001b[0;36m0.00042\u001b[0m\u001b[0;34m)\u001b[0m\u001b[0;34m\u001b[0m\u001b[0m\n",
      "\u001b[0;31mAttributeError\u001b[0m: 'AxesSubplot' object has no attribute 'flat'"
     ]
    },
    {
     "data": {
      "image/png": "[encoded data removed]",
      "text/plain": [
       "<Figure size 640x480 with 6 Axes>"
      ]
     },
     "metadata": {},
     "output_type": "display_data"
    }
   ],
   "source": [
    "sns.set_style('white')\n",
    "\n",
    "#set up the grid\n",
    "fig, axs = plt.subplots(nrows=2, ncols=3)\n",
    "fig.tight_layout(pad=2, w_pad=1.5, h_pad=1.5)\n",
    "\n",
    "\n",
    "#plot prior list errors for each list back\n",
    "man_means = []\n",
    "auto_means = []\n",
    "\n",
    "man_full = []\n",
    "auto_full = []\n",
    "\n",
    "for i in range(1, 6):\n",
    "    \n",
    "    ax = axs.flat[i]\n",
    "    \n",
    "    man_plot = [x[i] for x in mans]\n",
    "    auto_plot = [x[i] for x in autos]\n",
    "    \n",
    "    man_full.append(man_plot)\n",
    "    auto_full.append(auto_plot)\n",
    "\n",
    "    #print(man_plot)\n",
    "    #scatter plot\n",
    "    ax.scatter (man_plot, auto_plot, color = 'black', edgecolors = 'black')  \n",
    "    \n",
    "    #get line of best fit\n",
    "    reg_line = np.polyfit(man_plot, auto_plot, 1)\n",
    "    reg_line_fn = np.poly1d(reg_line)\n",
    "    ax.set_title(str(i)+' list back', size = 9)\n",
    "    ax.set_xlim(0, 0.00003)\n",
    "    ax.set_ylim(0, 0.00003)\n",
    "    ax.plot(man_plot, reg_line_fn(man_plot), color = 'black')\n",
    "    \n",
    "    #get R value\n",
    "    r = pearsonr(man_plot, auto_plot)\n",
    "    #ax.text(str(r), size = 8)\n",
    "    #ax.text(0.015, 0.0025, '$p<0.001$', size = 8)\n",
    "    #print(np.mean(man_plot))\n",
    "    man_means.append(np.mean(man_plot))\n",
    "    auto_means.append(np.mean(auto_plot))\n",
    "    \n",
    "    if i == 6:\n",
    "        print(man_plot)\n",
    "        print(auto_plot)\n",
    "    \n",
    "    print r\n",
    "\n",
    "\n",
    "#plot p(error) by list back\n",
    "ax = ax.flat[0]\n",
    "ax.set_xticks([1, 2, 3, 4, 5])\n",
    "ax.set_ylim(0, 0.00042)\n",
    "# sns.tsplot(np.array(man_plot))\n",
    "\n",
    "\n",
    "#ax.scatter(range(1,6), man_means, color = 'blue', label = 'manual')\n",
    "#ax.scatter(range(1,6), auto_means, color = 'green', label = 'automatic')\n",
    "\n",
    "\n",
    "#set axes labels\n",
    "ax.set_xlabel('Number of lists back', size = 7)\n",
    "# ax.set_ylabel('Average intrusion error rate (x$10^{-3}$)', size = 7)\n",
    "\n",
    "\n",
    "#legend\n",
    "ax.legend(loc = 'upper right', fontsize = 'x-small')\n",
    "  \n",
    "plt.show()"
   ]
  },
  {
   "cell_type": "code",
   "execution_count": null,
   "metadata": {},
   "outputs": [],
   "source": []
  },
  {
   "cell_type": "code",
   "execution_count": null,
   "metadata": {},
   "outputs": [],
   "source": []
  },
  {
   "cell_type": "code",
   "execution_count": null,
   "metadata": {},
   "outputs": [],
   "source": []
  },
  {
   "cell_type": "code",
   "execution_count": null,
   "metadata": {},
   "outputs": [],
   "source": []
  }
 ],
 "metadata": {
  "kernelspec": {
   "display_name": "Python 3",
   "language": "python",
   "name": "python3"
  },
  "language_info": {
   "codemirror_mode": {
    "name": "ipython",
    "version": 3
   },
   "file_extension": ".py",
   "mimetype": "text/x-python",
   "name": "python",
   "nbconvert_exporter": "python",
   "pygments_lexer": "ipython3",
   "version": "3.6.4"
  }
 },
 "nbformat": 4,
 "nbformat_minor": 2
}
