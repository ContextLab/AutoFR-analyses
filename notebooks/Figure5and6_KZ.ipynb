{
 "cells": [
  {
   "cell_type": "markdown",
   "metadata": {},
   "source": [
    "# Error Analyses"
   ]
  },
  {
   "cell_type": "markdown",
   "metadata": {},
   "source": [
    "Please see here the plot / data as I believe they should be, and my aimed replicate of the previous plots at the bottom of this notebook"
   ]
  },
  {
   "cell_type": "code",
   "execution_count": 5,
   "metadata": {},
   "outputs": [],
   "source": [
    "import os\n",
    "import numpy as np\n",
    "import seaborn as sns\n",
    "import matplotlib.pyplot as plt\n",
    "import quail\n",
    "import pickle\n",
    "import scipy\n",
    "import scipy.stats\n",
    "from scipy.stats import pearsonr\n",
    "import pandas as pd\n",
    "from sklearn.metrics import roc_curve, auc\n",
    "from sklearn.linear_model import LogisticRegression\n",
    "from itertools import groupby\n",
    "from collections import OrderedDict\n",
    "\n",
    "%matplotlib inline"
   ]
  },
  {
   "cell_type": "markdown",
   "metadata": {},
   "source": [
    "# Load Data"
   ]
  },
  {
   "cell_type": "code",
   "execution_count": 6,
   "metadata": {},
   "outputs": [],
   "source": [
    "man = quail.load_egg('../data/man_egg.egg')\n",
    "auto = quail.load_egg('../data/auto_egg.egg')"
   ]
  },
  {
   "cell_type": "code",
   "execution_count": 7,
   "metadata": {},
   "outputs": [],
   "source": [
    "man_errs = {'external': [], 'intrusion': [], 'num recalled': [], 'sep_rec': []}\n",
    "auto_errs = {'external': [], 'intrusion': [], 'num recalled': [], 'sep_rec': []}\n",
    "\n",
    "for trans,dic in zip([man,auto], [man_errs, auto_errs]): \n",
    "    for sub in range(len(auto.meta['ids'])):\n",
    "    \n",
    "        all_presented = []\n",
    "        external = []\n",
    "        intrusion = [0]*8\n",
    "        num_recalled = []\n",
    "        \n",
    "        for lst in range(0,8):\n",
    "            ext_count = 0\n",
    "            \n",
    "            # load pres and rec\n",
    "            recalled = [x for x in trans.rec.loc[sub].loc[lst].values if type(x)==str] \n",
    "            presented = trans.pres.loc[sub].loc[lst].values\n",
    "            num_recalled.append(len(recalled))\n",
    "            \n",
    "            # select recalls not from this pres \n",
    "            extras = [x for x in recalled if x not in presented]\n",
    "            \n",
    "            # if extra word prev presented, add to intrusion \n",
    "            for word in extras:\n",
    "                intr = 0\n",
    "                \n",
    "                for idx,sublist in enumerate(all_presented):\n",
    "                    if word in sublist:\n",
    "                        intrusion[lst-idx]+=1.0\n",
    "                        intr += 1\n",
    "                \n",
    "                if intr == 0:\n",
    "                    ext_count+=1\n",
    "       \n",
    "            # append prop recalls that are external errors\n",
    "            external.append(ext_count/float(len(recalled)))\n",
    "            all_presented.append(presented)\n",
    "        \n",
    "        dic['external'].append(np.mean(external))\n",
    "        dic['intrusion'].append(intrusion)  \n",
    "        dic['num recalled'].append(sum(num_recalled))\n",
    "        dic['sep_rec'].append(num_recalled)"
   ]
  },
  {
   "cell_type": "code",
   "execution_count": 9,
   "metadata": {},
   "outputs": [
    {
     "data": {
      "image/png": "[encoded data removed]",
      "text/plain": [
       "<Figure size 432x288 with 1 Axes>"
      ]
     },
     "metadata": {},
     "output_type": "display_data"
    }
   ],
   "source": [
    "#plot average proportion of external errors in man vs. auto transcription on scatter plot\n",
    "sns.set_style('white')\n",
    "fig, ax = plt.subplots()\n",
    "plt.scatter(man_errs['external'], auto_errs['external'], color = 'black', edgecolors = 'black')\n",
    "\n",
    "#label axes\n",
    "ax.set_xlabel('Extra-list error rate (manual)', size = 20)\n",
    "ax.set_ylabel('Extra-list error rate (automatic)', size = 20)\n",
    "plt.tick_params(labelsize=20)\n",
    "plt.xlim(0, .3)\n",
    "plt.ylim(0, .3)\n",
    "\n",
    "#get line of best fit\n",
    "reg_line = np.polyfit(man_errs['external'], auto_errs['external'], 1)\n",
    "reg_line_fn = np.poly1d(reg_line)\n",
    "plt.plot(man_errs['external'], reg_line_fn(man_errs['external']), color = 'black')\n",
    "\n",
    "#get R value\n",
    "r = pearsonr(man_errs['external'], auto_errs['external'])\n",
    "r_plot = str(r[0])\n",
    "p_plot=str(r[1])\n",
    "#print r\n",
    "ax.text(.95, .2, 'r = '+r_plot[0:4], horizontalalignment='right', verticalalignment='top',\n",
    "transform=ax.transAxes, color='black', fontsize=20)\n",
    "ax.text(0.95, 0.03, 'p = '+p_plot[0:4]+p_plot[-4:], horizontalalignment='right',\n",
    "transform=ax.transAxes, color='black', fontsize=20)\n",
    "\n",
    "#save plot and show\n",
    "plt.tight_layout()\n",
    "plt.style.use('default')\n",
    "fig.savefig('XLI_KZ.pdf')\n",
    "plt.show()"
   ]
  },
  {
   "cell_type": "code",
   "execution_count": null,
   "metadata": {},
   "outputs": [],
   "source": [
    "for error in [man_errs, auto_errs]:\n",
    "    for index,subj in enumerate(error['intrusion']):\n",
    "        for idx,num in enumerate(subj):\n",
    "            \n",
    "            if num != 0 and num != 0.0:\n",
    "\n",
    "                # take each raw value and divide by total recalled words and number of possible list back errors\n",
    "                subj[idx] = num / (error['num recalled'][index] * 16.0 * idx)\n"
   ]
  },
  {
   "cell_type": "markdown",
   "metadata": {},
   "source": [
    "# Create Plot"
   ]
  },
  {
   "cell_type": "code",
   "execution_count": null,
   "metadata": {
    "scrolled": true
   },
   "outputs": [],
   "source": [
    "sns.set_style('white')\n",
    "\n",
    "#set up the grid\n",
    "fig, axs = plt.subplots(nrows=2, ncols=3)\n",
    "fig.tight_layout(pad=2, w_pad=1.5, h_pad=1.5)\n",
    "\n",
    "\n",
    "#plot prior list errors for each list back\n",
    "man_means = []\n",
    "auto_means = []\n",
    "\n",
    "man_full = []\n",
    "auto_full = []\n",
    "\n",
    "for i in range(1, 6):\n",
    "    \n",
    "    ax = axs.flat[i]\n",
    "    \n",
    "    man_plot = [x[i] for x in man_errs['intrusion']]\n",
    "    auto_plot = [x[i] for x in auto_errs['intrusion']]\n",
    "    \n",
    "    man_full.append(man_plot)\n",
    "    auto_full.append(auto_plot)\n",
    "\n",
    "    ax.scatter (man_plot, auto_plot, color = 'black', edgecolors = 'black')  \n",
    "    \n",
    "    #get R value\n",
    "    r = pearsonr(man_plot, auto_plot)\n",
    "    r_plot = str(r[0])\n",
    "    p_plot = str(r[1])\n",
    "    \n",
    "    #get line of best fit\n",
    "    reg_line = np.polyfit(man_plot, auto_plot, 1)\n",
    "    reg_line_fn = np.poly1d(reg_line)\n",
    "    ax.set_title(str(i)+' list back', size = 9)\n",
    "    ax.set_xlim(0, 0.003)\n",
    "    ax.set_ylim(0, 0.003)\n",
    "    ax.plot(man_plot, reg_line_fn(man_plot), color = 'black')\n",
    "    \n",
    "    ax.text(0.95, 0.03, 'p = '+p_plot[0:4]+p_plot[-4:], horizontalalignment='right',\n",
    "    transform=ax.transAxes, color='black', fontsize=10)\n",
    "    ax.text(.95, .2, 'r = '+r_plot[0:4], horizontalalignment='right', verticalalignment='top',\n",
    "    transform=ax.transAxes, color='black', fontsize=10)\n",
    "    \n",
    "    man_means.append(np.mean(man_plot))\n",
    "    auto_means.append(np.mean(auto_plot))\n",
    "    \n",
    "#     print('correlation for '+str(i)+' lists back: ')\n",
    "#     print r\n",
    "#     print(' ')\n",
    "\n",
    "x = np.array(man_full)\n",
    "y = np.array(auto_full)\n",
    "sns.tsplot(np.transpose(x), ax=axs.flat[0], color = 'blue')\n",
    "sns.tsplot(np.transpose(y), ax=axs.flat[0], color = 'green')\n",
    "axs.flat[0].set_ylim(0,.00042)\n",
    "\n",
    "#legend\n",
    "ax.legend(loc = 'upper right', fontsize = 'x-small')\n",
    "fig.savefig('updated.pdf')\n",
    "\n",
    "\n",
    "\n"
   ]
  },
  {
   "cell_type": "code",
   "execution_count": null,
   "metadata": {},
   "outputs": [],
   "source": []
  },
  {
   "cell_type": "code",
   "execution_count": null,
   "metadata": {},
   "outputs": [],
   "source": []
  },
  {
   "cell_type": "code",
   "execution_count": null,
   "metadata": {},
   "outputs": [],
   "source": []
  },
  {
   "cell_type": "code",
   "execution_count": null,
   "metadata": {},
   "outputs": [],
   "source": []
  },
  {
   "cell_type": "code",
   "execution_count": null,
   "metadata": {},
   "outputs": [],
   "source": []
  },
  {
   "cell_type": "markdown",
   "metadata": {},
   "source": [
    "# Replicate Mistake"
   ]
  },
  {
   "cell_type": "code",
   "execution_count": 263,
   "metadata": {},
   "outputs": [],
   "source": [
    "mans = []\n",
    "autos = []\n",
    "for typ in [man_errs,auto_errs]:\n",
    "    for x,y in zip(typ['intrusion'],typ['sep_rec']):\n",
    "        if typ == man_errs:\n",
    "            mans.append([a/b for a,b in zip(x,y)])\n",
    "        else:\n",
    "            autos.append([a/b for a,b in zip(x,y)])"
   ]
  },
  {
   "cell_type": "code",
   "execution_count": 264,
   "metadata": {},
   "outputs": [],
   "source": [
    "for typ in [mans,autos]:\n",
    "    for index,lst in enumerate(typ):\n",
    "        for idx,x in enumerate(lst):\n",
    "            if idx!=0:\n",
    "                typ[index][idx] = x/(idx*16)"
   ]
  },
  {
   "cell_type": "code",
   "execution_count": 265,
   "metadata": {},
   "outputs": [
    {
     "name": "stdout",
     "output_type": "stream",
     "text": [
      "(0.9506534379088233, 9.184401321791529e-16)\n",
      "(0.8543287889126205, 1.9032395443905375e-09)\n",
      "(0.9917232543537262, 1.6485110153633218e-26)\n",
      "(nan, 1.0)\n",
      "(0.839044797992095, 6.96564180369715e-09)\n"
     ]
    },
    {
     "ename": "AttributeError",
     "evalue": "'AxesSubplot' object has no attribute 'flat'",
     "output_type": "error",
     "traceback": [
      "\u001b[0;31m---------------------------------------------------------------------------\u001b[0m",
      "\u001b[0;31mAttributeError\u001b[0m                            Traceback (most recent call last)",
      "\u001b[0;32m<ipython-input-265-577f882f6e3f>\u001b[0m in \u001b[0;36m<module>\u001b[0;34m()\u001b[0m\n\u001b[1;32m     51\u001b[0m \u001b[0;34m\u001b[0m\u001b[0m\n\u001b[1;32m     52\u001b[0m \u001b[0;31m#plot p(error) by list back\u001b[0m\u001b[0;34m\u001b[0m\u001b[0;34m\u001b[0m\u001b[0m\n\u001b[0;32m---> 53\u001b[0;31m \u001b[0max\u001b[0m \u001b[0;34m=\u001b[0m \u001b[0max\u001b[0m\u001b[0;34m.\u001b[0m\u001b[0mflat\u001b[0m\u001b[0;34m[\u001b[0m\u001b[0;36m0\u001b[0m\u001b[0;34m]\u001b[0m\u001b[0;34m\u001b[0m\u001b[0m\n\u001b[0m\u001b[1;32m     54\u001b[0m \u001b[0max\u001b[0m\u001b[0;34m.\u001b[0m\u001b[0mset_xticks\u001b[0m\u001b[0;34m(\u001b[0m\u001b[0;34m[\u001b[0m\u001b[0;36m1\u001b[0m\u001b[0;34m,\u001b[0m \u001b[0;36m2\u001b[0m\u001b[0;34m,\u001b[0m \u001b[0;36m3\u001b[0m\u001b[0;34m,\u001b[0m \u001b[0;36m4\u001b[0m\u001b[0;34m,\u001b[0m \u001b[0;36m5\u001b[0m\u001b[0;34m]\u001b[0m\u001b[0;34m)\u001b[0m\u001b[0;34m\u001b[0m\u001b[0m\n\u001b[1;32m     55\u001b[0m \u001b[0max\u001b[0m\u001b[0;34m.\u001b[0m\u001b[0mset_ylim\u001b[0m\u001b[0;34m(\u001b[0m\u001b[0;36m0\u001b[0m\u001b[0;34m,\u001b[0m \u001b[0;36m0.00042\u001b[0m\u001b[0;34m)\u001b[0m\u001b[0;34m\u001b[0m\u001b[0m\n",
      "\u001b[0;31mAttributeError\u001b[0m: 'AxesSubplot' object has no attribute 'flat'"
     ]
    },
    {
     "data": {
      "image/png": "[encoded data removed]",
      "text/plain": [
       "<Figure size 640x480 with 6 Axes>"
      ]
     },
     "metadata": {},
     "output_type": "display_data"
    }
   ],
   "source": [
    "sns.set_style('white')\n",
    "\n",
    "#set up the grid\n",
    "fig, axs = plt.subplots(nrows=2, ncols=3)\n",
    "fig.tight_layout(pad=2, w_pad=1.5, h_pad=1.5)\n",
    "\n",
    "\n",
    "#plot prior list errors for each list back\n",
    "man_means = []\n",
    "auto_means = []\n",
    "\n",
    "man_full = []\n",
    "auto_full = []\n",
    "\n",
    "for i in range(1, 6):\n",
    "    \n",
    "    ax = axs.flat[i]\n",
    "    \n",
    "    man_plot = [x[i] for x in mans]\n",
    "    auto_plot = [x[i] for x in autos]\n",
    "    \n",
    "    man_full.append(man_plot)\n",
    "    auto_full.append(auto_plot)\n",
    "\n",
    "    #print(man_plot)\n",
    "    #scatter plot\n",
    "    ax.scatter (man_plot, auto_plot, color = 'black', edgecolors = 'black')  \n",
    "    \n",
    "    #get line of best fit\n",
    "    reg_line = np.polyfit(man_plot, auto_plot, 1)\n",
    "    reg_line_fn = np.poly1d(reg_line)\n",
    "    ax.set_title(str(i)+' list back', size = 9)\n",
    "    ax.set_xlim(0, 0.00003)\n",
    "    ax.set_ylim(0, 0.00003)\n",
    "    ax.plot(man_plot, reg_line_fn(man_plot), color = 'black')\n",
    "    \n",
    "    #get R value\n",
    "    r = pearsonr(man_plot, auto_plot)\n",
    "    #ax.text(str(r), size = 8)\n",
    "    #ax.text(0.015, 0.0025, '$p<0.001$', size = 8)\n",
    "    #print(np.mean(man_plot))\n",
    "    man_means.append(np.mean(man_plot))\n",
    "    auto_means.append(np.mean(auto_plot))\n",
    "    \n",
    "    if i == 6:\n",
    "        print(man_plot)\n",
    "        print(auto_plot)\n",
    "    \n",
    "    print r\n",
    "\n",
    "\n",
    "#plot p(error) by list back\n",
    "ax = ax.flat[0]\n",
    "ax.set_xticks([1, 2, 3, 4, 5])\n",
    "ax.set_ylim(0, 0.00042)\n",
    "# sns.tsplot(np.array(man_plot))\n",
    "\n",
    "\n",
    "#ax.scatter(range(1,6), man_means, color = 'blue', label = 'manual')\n",
    "#ax.scatter(range(1,6), auto_means, color = 'green', label = 'automatic')\n",
    "\n",
    "\n",
    "#set axes labels\n",
    "ax.set_xlabel('Number of lists back', size = 7)\n",
    "# ax.set_ylabel('Average intrusion error rate (x$10^{-3}$)', size = 7)\n",
    "\n",
    "\n",
    "#legend\n",
    "ax.legend(loc = 'upper right', fontsize = 'x-small')\n",
    "  \n",
    "plt.show()"
   ]
  },
  {
   "cell_type": "code",
   "execution_count": null,
   "metadata": {},
   "outputs": [],
   "source": []
  },
  {
   "cell_type": "code",
   "execution_count": null,
   "metadata": {},
   "outputs": [],
   "source": []
  },
  {
   "cell_type": "code",
   "execution_count": null,
   "metadata": {},
   "outputs": [],
   "source": []
  },
  {
   "cell_type": "code",
   "execution_count": null,
   "metadata": {},
   "outputs": [],
   "source": []
  }
 ],
 "metadata": {
  "kernelspec": {
   "display_name": "Python 2",
   "language": "python",
   "name": "python2"
  }
 },
 "nbformat": 4,
 "nbformat_minor": 2
}
