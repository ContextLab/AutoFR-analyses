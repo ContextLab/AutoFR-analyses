{
 "cells": [
  {
   "cell_type": "code",
   "execution_count": 1,
   "metadata": {
    "collapsed": true
   },
   "outputs": [],
   "source": [
    "import quail\n",
    "import pickle"
   ]
  },
  {
   "cell_type": "markdown",
   "metadata": {},
   "source": [
    "## Load auto"
   ]
  },
  {
   "cell_type": "code",
   "execution_count": 2,
   "metadata": {
    "collapsed": true
   },
   "outputs": [],
   "source": [
    "# transcription data\n",
    "egg_auto = pickle.load(open('../data/automatic_transcription.p', 'rb'))\n",
    "egg_auto.meta['ids'].append(u'debugQVC5IH:debugWA2XJU')\n",
    "egg_auto.meta['ids'].append(u'debugZANF1E:debugNSAB89')"
   ]
  },
  {
   "cell_type": "markdown",
   "metadata": {},
   "source": [
    "## Organize auto data and make pickle"
   ]
  },
  {
   "cell_type": "code",
   "execution_count": 3,
   "metadata": {
    "collapsed": true
   },
   "outputs": [],
   "source": [
    "pres_auto = [egg_auto.pres.loc[i].values.tolist() for i in range(30)]\n",
    "rec_auto = [egg_auto.rec.loc[i].values.tolist() for i in range(30)]\n",
    "meta_auto = egg_auto.meta['ids']\n",
    "auto = {\n",
    "    'pres' : pres_auto,\n",
    "    'rec' : rec_auto,\n",
    "    'meta' : meta_auto\n",
    "}\n",
    "with open('../data/auto_raw.p', 'wb') as f:\n",
    "    pickle.dump(auto, f)"
   ]
  },
  {
   "cell_type": "markdown",
   "metadata": {},
   "source": [
    "## Load manual"
   ]
  },
  {
   "cell_type": "code",
   "execution_count": 4,
   "metadata": {
    "collapsed": true
   },
   "outputs": [],
   "source": [
    "egg_man = pickle.load(open('../data/manual_transcription.p', 'rb'))"
   ]
  },
  {
   "cell_type": "markdown",
   "metadata": {},
   "source": [
    "## Organize man data and make pickle"
   ]
  },
  {
   "cell_type": "code",
   "execution_count": 10,
   "metadata": {
    "collapsed": true
   },
   "outputs": [],
   "source": [
    "pres_man = [egg_man.pres.loc[i].values.tolist() for i in range(30)]\n",
    "rec_man = [egg_man.rec.loc[i].values.tolist() for i in range(30)]\n",
    "meta_man = egg_man.meta['ids']\n",
    "man = {\n",
    "    'pres' : pres_man,\n",
    "    'rec' : rec_man,\n",
    "    'meta' : meta_man\n",
    "}\n",
    "with open('../data/man_raw.p', 'wb') as f:\n",
    "    pickle.dump(man, f)"
   ]
  }
 ],
 "metadata": {
  "kernelspec": {
   "display_name": "Python 2",
   "language": "python",
   "name": "python2"
  },
  "language_info": {
   "codemirror_mode": {
    "name": "ipython",
    "version": 2
   },
   "file_extension": ".py",
   "mimetype": "text/x-python",
   "name": "python",
   "nbconvert_exporter": "python",
   "pygments_lexer": "ipython2",
   "version": "2.7.11"
  }
 },
 "nbformat": 4,
 "nbformat_minor": 2
}
